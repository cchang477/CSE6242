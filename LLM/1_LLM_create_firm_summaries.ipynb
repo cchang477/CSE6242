{
 "cells": [
  {
   "cell_type": "markdown",
   "id": "bf772d39-bb26-4b68-a062-e7d9b6b10952",
   "metadata": {},
   "source": [
    "# Contents and Description\n",
    "In this notebook, we\n",
    "1. create training data for fine tuning our LLM sentiment analyzer <br>\n",
    "&nbsp; - The output is a 1_LLM_finetuning_training_dataset.pkl file<br><br>\n",
    "2. experiment with creating a firm summarizer for multiple reviews.<br>\n",
    "&nbsp; - The actual summarizing is not performed in this notebook but is instead carried out in a 1_summarizer.py file<br>\n",
    "&nbsp; - The output will be summary text files in an output folder (not included in GitHub repo)<br><br>\n",
    "3. create a dataframe from the firm summary reviews <br>\n",
    "&nbsp; - The output will be a 2_summary_reviews.csv file<br><br>\n",
    "\n",
    "We also attempted exploration of RAG for out sentiment analyzer but opted not to continue with the approach."
   ]
  },
  {
   "cell_type": "markdown",
   "id": "3498624f-6921-4eb2-b2cf-9d825baf72a0",
   "metadata": {},
   "source": [
    "Contents:\n",
    "1. [Imports and installs](#imports)\n",
    "2. [Create training data for fine-tuning](#createdata)\n",
    "3. [Create firm summary reviews experiment](#summarizer)\n",
    "4. [Create dataframe from firm summaries](#output)\n",
    "5. [Exploration on using RAG (not utilizied)](#rag)"
   ]
  },
  {
   "cell_type": "markdown",
   "id": "0852e4cf-81e7-41cc-965e-178361c310d9",
   "metadata": {
    "tags": []
   },
   "source": [
    "---\n",
    "# Imports and installs <a name=\"imports\"></a>\n",
    "1. install ollama\n",
    "2. run ollama run/pull \\<model to be used\\>\n",
    "3. run 'ollama serve' in terminal if service not already running\n",
    "\n",
    "Check cuda etc requirements if ollama should run on a gpu"
   ]
  },
  {
   "cell_type": "raw",
   "id": "647a0300-c4b9-415b-9597-8c21216813aa",
   "metadata": {},
   "source": [
    "!pip install ollama\n",
    "# install below for RAG\n",
    "!pip install langchain_chroma\n",
    "!pip install langchain_text_splitters\n",
    "!pip install langchain_community"
   ]
  },
  {
   "cell_type": "code",
   "execution_count": 1,
   "id": "b38fb5ac-8c3f-4056-9b17-8fea30ef4755",
   "metadata": {},
   "outputs": [],
   "source": [
    "import ollama\n",
    "import os\n",
    "import random\n",
    "import pickle\n",
    "import json\n",
    "import re\n",
    "import math\n",
    "import pandas as pd\n",
    "from tqdm.notebook import tqdm\n",
    "# import below for RAG\n",
    "#from langchain_chroma import Chroma\n",
    "#from langchain_text_splitters import RecursiveCharacterTextSplitter\n",
    "#from langchain_community.embeddings import OllamaEmbeddings"
   ]
  },
  {
   "cell_type": "raw",
   "id": "e95807b0-4b48-4a82-8015-1f71502c24cb",
   "metadata": {},
   "source": [
    "# test that LLM prompting is working\n",
    "response = ollama.chat(\n",
    "    model=\"llama3.2\",\n",
    "    messages=[\n",
    "        {\n",
    "            \"role\": \"user\",\n",
    "            \"content\": \"Tell me an interesting fact about cows\",\n",
    "        },\n",
    "    ],\n",
    ")\n",
    "print(response[\"message\"][\"content\"])"
   ]
  },
  {
   "cell_type": "code",
   "execution_count": 2,
   "id": "e71eb891-27ef-4c74-a096-92b1417d4d6d",
   "metadata": {},
   "outputs": [
    {
     "name": "stderr",
     "output_type": "stream",
     "text": [
      "C:\\Users\\chang\\AppData\\Local\\Temp\\ipykernel_27804\\2083690800.py:1: DtypeWarning: Columns (5,9,10,11,12) have mixed types. Specify dtype option on import or set low_memory=False.\n",
      "  df = pd.read_csv('all_reviews.csv')\n"
     ]
    }
   ],
   "source": [
    "df = pd.read_csv('all_reviews.csv')"
   ]
  },
  {
   "cell_type": "code",
   "execution_count": 3,
   "id": "e3044892-7283-4830-9494-300c9ac8a547",
   "metadata": {},
   "outputs": [
    {
     "data": {
      "text/html": [
       "<div>\n",
       "<style scoped>\n",
       "    .dataframe tbody tr th:only-of-type {\n",
       "        vertical-align: middle;\n",
       "    }\n",
       "\n",
       "    .dataframe tbody tr th {\n",
       "        vertical-align: top;\n",
       "    }\n",
       "\n",
       "    .dataframe thead th {\n",
       "        text-align: right;\n",
       "    }\n",
       "</style>\n",
       "<table border=\"1\" class=\"dataframe\">\n",
       "  <thead>\n",
       "    <tr style=\"text-align: right;\">\n",
       "      <th></th>\n",
       "      <th>rating</th>\n",
       "      <th>title</th>\n",
       "      <th>status</th>\n",
       "      <th>pros</th>\n",
       "      <th>cons</th>\n",
       "      <th>advice</th>\n",
       "      <th>Recommend</th>\n",
       "      <th>CEO Approval</th>\n",
       "      <th>Business Outlook</th>\n",
       "      <th>Career Opportunities</th>\n",
       "      <th>Compensation and Benefits</th>\n",
       "      <th>Senior Management</th>\n",
       "      <th>Work/Life Balance</th>\n",
       "      <th>Culture &amp; Values</th>\n",
       "      <th>Diversity &amp; Inclusion</th>\n",
       "      <th>firm_link</th>\n",
       "      <th>date</th>\n",
       "      <th>job</th>\n",
       "      <th>index</th>\n",
       "    </tr>\n",
       "  </thead>\n",
       "  <tbody>\n",
       "    <tr>\n",
       "      <th>0</th>\n",
       "      <td>5.0</td>\n",
       "      <td>Good</td>\n",
       "      <td>Current Employee, more than 10 years</td>\n",
       "      <td>Knowledge gain of complete  project</td>\n",
       "      <td>Financial growth  and personal growth</td>\n",
       "      <td>NaN</td>\n",
       "      <td>v</td>\n",
       "      <td>o</td>\n",
       "      <td>v</td>\n",
       "      <td>3</td>\n",
       "      <td>3</td>\n",
       "      <td>3</td>\n",
       "      <td>3</td>\n",
       "      <td>3.0</td>\n",
       "      <td>3.0</td>\n",
       "      <td>Reviews/Baja-Steel-and-Fence-Reviews-E5462645.htm</td>\n",
       "      <td>Nov 19, 2022</td>\n",
       "      <td>Manager Design</td>\n",
       "      <td>NaN</td>\n",
       "    </tr>\n",
       "    <tr>\n",
       "      <th>1</th>\n",
       "      <td>4.0</td>\n",
       "      <td>Good</td>\n",
       "      <td>Former Employee, less than 1 year</td>\n",
       "      <td>Good work,good work , flexible, support</td>\n",
       "      <td>Good,work, flexible,good support, good team work</td>\n",
       "      <td>NaN</td>\n",
       "      <td>v</td>\n",
       "      <td>o</td>\n",
       "      <td>o</td>\n",
       "      <td>4</td>\n",
       "      <td>4</td>\n",
       "      <td>4</td>\n",
       "      <td>4</td>\n",
       "      <td>4.0</td>\n",
       "      <td>4.0</td>\n",
       "      <td>Reviews/Baja-Steel-and-Fence-Reviews-E5462645.htm</td>\n",
       "      <td>Jan 29, 2022</td>\n",
       "      <td>Anonymous Employee</td>\n",
       "      <td>NaN</td>\n",
       "    </tr>\n",
       "    <tr>\n",
       "      <th>2</th>\n",
       "      <td>4.0</td>\n",
       "      <td>Supervising the manufacturing the processes, e...</td>\n",
       "      <td>Current Employee, more than 1 year</td>\n",
       "      <td>This company is a best opportunity for me to l...</td>\n",
       "      <td>Monthly Target work,Maintain production schedu...</td>\n",
       "      <td>NaN</td>\n",
       "      <td>v</td>\n",
       "      <td>o</td>\n",
       "      <td>v</td>\n",
       "      <td>2</td>\n",
       "      <td>3</td>\n",
       "      <td>2</td>\n",
       "      <td>2</td>\n",
       "      <td>2.0</td>\n",
       "      <td>2.0</td>\n",
       "      <td>Reviews/Baja-Steel-and-Fence-Reviews-E5462645.htm</td>\n",
       "      <td>Aug 12, 2021</td>\n",
       "      <td>Production Engineer</td>\n",
       "      <td>NaN</td>\n",
       "    </tr>\n",
       "    <tr>\n",
       "      <th>3</th>\n",
       "      <td>1.0</td>\n",
       "      <td>terrible</td>\n",
       "      <td>Current Employee, more than 1 year</td>\n",
       "      <td>I wish there were some to list</td>\n",
       "      <td>too many to list here</td>\n",
       "      <td>NaN</td>\n",
       "      <td>x</td>\n",
       "      <td>x</td>\n",
       "      <td>x</td>\n",
       "      <td>1.0</td>\n",
       "      <td>3.0</td>\n",
       "      <td>1.0</td>\n",
       "      <td>3.0</td>\n",
       "      <td>1.0</td>\n",
       "      <td>NaN</td>\n",
       "      <td>https://www.glassdoor.com/Reviews/Calgary-Flam...</td>\n",
       "      <td>Sep 24, 2020</td>\n",
       "      <td>Senior Account Executive</td>\n",
       "      <td>NaN</td>\n",
       "    </tr>\n",
       "    <tr>\n",
       "      <th>4</th>\n",
       "      <td>4.0</td>\n",
       "      <td>It could be so good, but it isn’t</td>\n",
       "      <td>Current Employee, more than 3 years</td>\n",
       "      <td>Fast Paced. Endless challenges. Inclusive envi...</td>\n",
       "      <td>The biggest perk of the job provides no value ...</td>\n",
       "      <td>NaN</td>\n",
       "      <td>o</td>\n",
       "      <td>o</td>\n",
       "      <td>o</td>\n",
       "      <td>3.0</td>\n",
       "      <td>3.0</td>\n",
       "      <td>3.0</td>\n",
       "      <td>1.0</td>\n",
       "      <td>4.0</td>\n",
       "      <td>5.0</td>\n",
       "      <td>https://www.glassdoor.com/Reviews/Calgary-Flam...</td>\n",
       "      <td>Mar 25, 2023</td>\n",
       "      <td>Assistant Manager</td>\n",
       "      <td>NaN</td>\n",
       "    </tr>\n",
       "  </tbody>\n",
       "</table>\n",
       "</div>"
      ],
      "text/plain": [
       "   rating                                              title  \\\n",
       "0     5.0                                               Good   \n",
       "1     4.0                                               Good   \n",
       "2     4.0  Supervising the manufacturing the processes, e...   \n",
       "3     1.0                                           terrible   \n",
       "4     4.0                  It could be so good, but it isn’t   \n",
       "\n",
       "                                 status  \\\n",
       "0  Current Employee, more than 10 years   \n",
       "1     Former Employee, less than 1 year   \n",
       "2    Current Employee, more than 1 year   \n",
       "3    Current Employee, more than 1 year   \n",
       "4   Current Employee, more than 3 years   \n",
       "\n",
       "                                                pros  \\\n",
       "0                Knowledge gain of complete  project   \n",
       "1            Good work,good work , flexible, support   \n",
       "2  This company is a best opportunity for me to l...   \n",
       "3                     I wish there were some to list   \n",
       "4  Fast Paced. Endless challenges. Inclusive envi...   \n",
       "\n",
       "                                                cons advice Recommend  \\\n",
       "0              Financial growth  and personal growth    NaN         v   \n",
       "1   Good,work, flexible,good support, good team work    NaN         v   \n",
       "2  Monthly Target work,Maintain production schedu...    NaN         v   \n",
       "3                              too many to list here    NaN         x   \n",
       "4  The biggest perk of the job provides no value ...    NaN         o   \n",
       "\n",
       "  CEO Approval Business Outlook Career Opportunities  \\\n",
       "0            o                v                    3   \n",
       "1            o                o                    4   \n",
       "2            o                v                    2   \n",
       "3            x                x                  1.0   \n",
       "4            o                o                  3.0   \n",
       "\n",
       "  Compensation and Benefits Senior Management Work/Life Balance  \\\n",
       "0                         3                 3                 3   \n",
       "1                         4                 4                 4   \n",
       "2                         3                 2                 2   \n",
       "3                       3.0               1.0               3.0   \n",
       "4                       3.0               3.0               1.0   \n",
       "\n",
       "   Culture & Values  Diversity & Inclusion  \\\n",
       "0               3.0                    3.0   \n",
       "1               4.0                    4.0   \n",
       "2               2.0                    2.0   \n",
       "3               1.0                    NaN   \n",
       "4               4.0                    5.0   \n",
       "\n",
       "                                           firm_link           date  \\\n",
       "0  Reviews/Baja-Steel-and-Fence-Reviews-E5462645.htm  Nov 19, 2022    \n",
       "1  Reviews/Baja-Steel-and-Fence-Reviews-E5462645.htm  Jan 29, 2022    \n",
       "2  Reviews/Baja-Steel-and-Fence-Reviews-E5462645.htm  Aug 12, 2021    \n",
       "3  https://www.glassdoor.com/Reviews/Calgary-Flam...  Sep 24, 2020    \n",
       "4  https://www.glassdoor.com/Reviews/Calgary-Flam...  Mar 25, 2023    \n",
       "\n",
       "                         job  index  \n",
       "0             Manager Design    NaN  \n",
       "1         Anonymous Employee    NaN  \n",
       "2        Production Engineer    NaN  \n",
       "3   Senior Account Executive    NaN  \n",
       "4          Assistant Manager    NaN  "
      ]
     },
     "execution_count": 3,
     "metadata": {},
     "output_type": "execute_result"
    }
   ],
   "source": [
    "df.head()"
   ]
  },
  {
   "cell_type": "markdown",
   "id": "e6d29c9f-fd30-4116-9a99-e7c3bcdde1f0",
   "metadata": {},
   "source": [
    "---\n",
    "# Create training data for fine-tuning <a name=\"createdata\"></a>"
   ]
  },
  {
   "cell_type": "code",
   "execution_count": 76,
   "id": "9afe427a-9ef1-48e4-a41c-4fd151ba49df",
   "metadata": {},
   "outputs": [
    {
     "data": {
      "text/plain": [
       "{'Career Opportunities': 'co',\n",
       " 'Compensation and Benefits': 'cb',\n",
       " 'Senior Management': 'sm',\n",
       " 'Work/Life Balance': 'wlb',\n",
       " 'Culture & Values': 'cv',\n",
       " 'Diversity & Inclusion': 'di'}"
      ]
     },
     "execution_count": 76,
     "metadata": {},
     "output_type": "execute_result"
    }
   ],
   "source": [
    "# create mapping dict\n",
    "cols = dict(zip(list(df.columns)[9:15],['co','cb','sm','wlb','cv','di']))\n",
    "cols"
   ]
  },
  {
   "cell_type": "code",
   "execution_count": null,
   "id": "8458b7c0-3c3a-47b0-978e-127bdab6a4c6",
   "metadata": {
    "scrolled": true,
    "tags": []
   },
   "outputs": [
    {
     "data": {
      "application/vnd.jupyter.widget-view+json": {
       "model_id": "958e564ac5784330adb02860600abb60",
       "version_major": 2,
       "version_minor": 0
      },
      "text/plain": [
       "co 1 rating:   0%|          | 0/1000 [00:00<?, ?it/s]"
      ]
     },
     "metadata": {},
     "output_type": "display_data"
    },
    {
     "data": {
      "application/vnd.jupyter.widget-view+json": {
       "model_id": "43a92dd343cb45abbe27d2487b40e157",
       "version_major": 2,
       "version_minor": 0
      },
      "text/plain": [
       "co 2 rating:   0%|          | 0/1000 [00:00<?, ?it/s]"
      ]
     },
     "metadata": {},
     "output_type": "display_data"
    },
    {
     "data": {
      "application/vnd.jupyter.widget-view+json": {
       "model_id": "b93a60db9cb041fd8f95a0cdd07eeb46",
       "version_major": 2,
       "version_minor": 0
      },
      "text/plain": [
       "co 3 rating:   0%|          | 0/1000 [00:00<?, ?it/s]"
      ]
     },
     "metadata": {},
     "output_type": "display_data"
    },
    {
     "data": {
      "application/vnd.jupyter.widget-view+json": {
       "model_id": "4814a2394a9f4366aee646ff73779a38",
       "version_major": 2,
       "version_minor": 0
      },
      "text/plain": [
       "co 4 rating:   0%|          | 0/1000 [00:00<?, ?it/s]"
      ]
     },
     "metadata": {},
     "output_type": "display_data"
    },
    {
     "data": {
      "application/vnd.jupyter.widget-view+json": {
       "model_id": "41744afa54a8445081edfc7362542913",
       "version_major": 2,
       "version_minor": 0
      },
      "text/plain": [
       "cb 3 rating:   0%|          | 0/1000 [00:00<?, ?it/s]"
      ]
     },
     "metadata": {},
     "output_type": "display_data"
    },
    {
     "data": {
      "application/vnd.jupyter.widget-view+json": {
       "model_id": "9e40a7079d1347e3aa3e137405e61668",
       "version_major": 2,
       "version_minor": 0
      },
      "text/plain": [
       "cb 4 rating:   0%|          | 0/1000 [00:00<?, ?it/s]"
      ]
     },
     "metadata": {},
     "output_type": "display_data"
    },
    {
     "data": {
      "application/vnd.jupyter.widget-view+json": {
       "model_id": "e1b98c7a4bdd425cb0fedbc27358ddb6",
       "version_major": 2,
       "version_minor": 0
      },
      "text/plain": [
       "cb 5 rating:   0%|          | 0/1000 [00:00<?, ?it/s]"
      ]
     },
     "metadata": {},
     "output_type": "display_data"
    },
    {
     "data": {
      "application/vnd.jupyter.widget-view+json": {
       "model_id": "cc61cbc362e94653b3159ec8ffa229c5",
       "version_major": 2,
       "version_minor": 0
      },
      "text/plain": [
       "sm 1 rating:   0%|          | 0/1000 [00:00<?, ?it/s]"
      ]
     },
     "metadata": {},
     "output_type": "display_data"
    },
    {
     "data": {
      "application/vnd.jupyter.widget-view+json": {
       "model_id": "f854f8eb155449318608eb5c933341bf",
       "version_major": 2,
       "version_minor": 0
      },
      "text/plain": [
       "sm 2 rating:   0%|          | 0/1000 [00:00<?, ?it/s]"
      ]
     },
     "metadata": {},
     "output_type": "display_data"
    },
    {
     "data": {
      "application/vnd.jupyter.widget-view+json": {
       "model_id": "d97eba6177a74a3b9d722bb916a27b4b",
       "version_major": 2,
       "version_minor": 0
      },
      "text/plain": [
       "sm 3 rating:   0%|          | 0/1000 [00:00<?, ?it/s]"
      ]
     },
     "metadata": {},
     "output_type": "display_data"
    },
    {
     "data": {
      "application/vnd.jupyter.widget-view+json": {
       "model_id": "dccf6805e13844858aaef10200d49089",
       "version_major": 2,
       "version_minor": 0
      },
      "text/plain": [
       "sm 4 rating:   0%|          | 0/1000 [00:00<?, ?it/s]"
      ]
     },
     "metadata": {},
     "output_type": "display_data"
    },
    {
     "data": {
      "application/vnd.jupyter.widget-view+json": {
       "model_id": "02ef0d56b5614a9e9c571342ce5a3972",
       "version_major": 2,
       "version_minor": 0
      },
      "text/plain": [
       "sm 5 rating:   0%|          | 0/1000 [00:00<?, ?it/s]"
      ]
     },
     "metadata": {},
     "output_type": "display_data"
    },
    {
     "data": {
      "application/vnd.jupyter.widget-view+json": {
       "model_id": "79b6ced99d4f4452925702df0f8ada8f",
       "version_major": 2,
       "version_minor": 0
      },
      "text/plain": [
       "cv 1 rating:   0%|          | 0/1000 [00:00<?, ?it/s]"
      ]
     },
     "metadata": {},
     "output_type": "display_data"
    },
    {
     "data": {
      "application/vnd.jupyter.widget-view+json": {
       "model_id": "31820168ef524f77994a27cd3d3a009e",
       "version_major": 2,
       "version_minor": 0
      },
      "text/plain": [
       "cv 2 rating:   0%|          | 0/1000 [00:00<?, ?it/s]"
      ]
     },
     "metadata": {},
     "output_type": "display_data"
    },
    {
     "data": {
      "application/vnd.jupyter.widget-view+json": {
       "model_id": "33abfef6baf64e0ea16826b0259e15d5",
       "version_major": 2,
       "version_minor": 0
      },
      "text/plain": [
       "cv 3 rating:   0%|          | 0/1000 [00:00<?, ?it/s]"
      ]
     },
     "metadata": {},
     "output_type": "display_data"
    }
   ],
   "source": [
    "train={}\n",
    "for k,v in cols.items(): # iterate through 6 categories\n",
    "    col = pd.to_numeric(df[k],errors='coerce') # set values to numeric, else NA\n",
    "    train[v]={}\n",
    "    for rating in range(1,6): # create 1k training reviews for each rating value (1 to 5)\n",
    "        i=0\n",
    "        train[v][rating]=[]\n",
    "        indices = list(col[col==rating].index) # indices of rows where rating of category matches\n",
    "        pbar = tqdm(total=1000,desc=f'{v} {rating} rating') # instantiate progress bar\n",
    "        while i<1000: # iterate till 1k rows are obtained for rating in category\n",
    "            index = indices.pop(random.choice(range(len(indices)))) # random choose matching row index\n",
    "            row = df.loc[index]\n",
    "            review = f\"pros: {row['pros']}\\ncons: {row['cons']}\" # set pros and cons to review string\n",
    "            # prompt ollama to id if reviews have anything to do with category\n",
    "            # if yes, store review as training data and increment counter i\n",
    "            # if no, *do not* increment counter, move on to another row\n",
    "            response = ollama.chat(\n",
    "                model=\"llama3.2\",\n",
    "                messages=[\n",
    "                    {\n",
    "                        \"role\": \"user\",\n",
    "                        \"content\": f\"Does the following review have anything to do with {k.lower()}?\\n\"\\\n",
    "                        +review\\\n",
    "                        +\"reply with only yes or no\",\n",
    "                    },\n",
    "                ],\n",
    "            )\n",
    "\n",
    "            if 'yes' in response[\"message\"][\"content\"].lower():\n",
    "                train[v][rating].append(review)\n",
    "                i = i+1\n",
    "                pbar.update(1)\n",
    "        pbar.close()"
   ]
  },
  {
   "cell_type": "raw",
   "id": "b5d99bae-7f19-46dc-b553-2dbe5a969cb4",
   "metadata": {},
   "source": [
    "# output training data to pkl\n",
    "with open('train.pkl','wb') as file:\n",
    "    pickle.dump(train,file)"
   ]
  },
  {
   "cell_type": "code",
   "execution_count": 89,
   "id": "d1b31d67-7405-471e-be3f-db8e0341fcd8",
   "metadata": {},
   "outputs": [
    {
     "data": {
      "text/plain": [
       "dict_keys(['co', 'cb', 'sm', 'cv', 'di', 'wlb'])"
      ]
     },
     "execution_count": 89,
     "metadata": {},
     "output_type": "execute_result"
    }
   ],
   "source": [
    "# load training data from pkl\n",
    "with open('1_LLM_finetuning_training_dataset.pkl','rb') as file:\n",
    "    train=pickle.load(file)\n",
    "train.keys() # check that all categories are present in training data"
   ]
  },
  {
   "cell_type": "markdown",
   "id": "03a9436d-088b-4a9f-9642-ec53efbfb0c3",
   "metadata": {},
   "source": [
    "---\n",
    "# Create summary reviews per firm (experiment)<a name=\"summarizer\"></a>"
   ]
  },
  {
   "cell_type": "raw",
   "id": "bf122074-0d6d-4231-8afd-d76a0c9fc7c1",
   "metadata": {},
   "source": [
    "# create 'firm' column from 'firm_link', extracting firm name between the last / and - of the link\n",
    "split_urls = df.firm_link.str.rsplit('/', n=1)\n",
    "df['firm'] = split_urls.str[-1].str.rsplit('-', n=2).str[0]"
   ]
  },
  {
   "cell_type": "raw",
   "id": "6b920716-f063-4e79-8978-35fd60a0169b",
   "metadata": {},
   "source": [
    "# keep only relevant columns in df\n",
    "df = df[['pros','cons','Career Opportunities',\n",
    "       'Compensation and Benefits', 'Senior Management', 'Work/Life Balance',\n",
    "       'Culture & Values', 'Diversity & Inclusion','firm']]"
   ]
  },
  {
   "cell_type": "raw",
   "id": "6f4e60aa-288f-483b-99ed-877b3435ef9c",
   "metadata": {},
   "source": [
    "# pickle processed df\n",
    "with open('1_df.pkl','wb') as file:\n",
    "    pickle.dump(df,file)"
   ]
  },
  {
   "cell_type": "code",
   "execution_count": 2,
   "id": "dffd3781-3ad1-47b0-957f-a4c87afa880c",
   "metadata": {},
   "outputs": [],
   "source": [
    "# laod processed df\n",
    "with open('1_df.pkl','rb') as file:\n",
    "    df = pickle.load(file)"
   ]
  },
  {
   "cell_type": "code",
   "execution_count": 3,
   "id": "5eae3b86-18e2-4377-be76-f7972d31c307",
   "metadata": {
    "scrolled": true,
    "tags": []
   },
   "outputs": [
    {
     "data": {
      "text/html": [
       "<div>\n",
       "<style scoped>\n",
       "    .dataframe tbody tr th:only-of-type {\n",
       "        vertical-align: middle;\n",
       "    }\n",
       "\n",
       "    .dataframe tbody tr th {\n",
       "        vertical-align: top;\n",
       "    }\n",
       "\n",
       "    .dataframe thead th {\n",
       "        text-align: right;\n",
       "    }\n",
       "</style>\n",
       "<table border=\"1\" class=\"dataframe\">\n",
       "  <thead>\n",
       "    <tr style=\"text-align: right;\">\n",
       "      <th></th>\n",
       "      <th>firm</th>\n",
       "      <th>count</th>\n",
       "    </tr>\n",
       "  </thead>\n",
       "  <tbody>\n",
       "    <tr>\n",
       "      <th>1652</th>\n",
       "      <td>Amazon</td>\n",
       "      <td>163396</td>\n",
       "    </tr>\n",
       "    <tr>\n",
       "      <th>29274</th>\n",
       "      <td>Tata-Consultancy-Services</td>\n",
       "      <td>107218</td>\n",
       "    </tr>\n",
       "    <tr>\n",
       "      <th>32691</th>\n",
       "      <td>Walmart</td>\n",
       "      <td>102152</td>\n",
       "    </tr>\n",
       "    <tr>\n",
       "      <th>6831</th>\n",
       "      <td>Cognizant-Technology-Solutions</td>\n",
       "      <td>84171</td>\n",
       "    </tr>\n",
       "    <tr>\n",
       "      <th>19010</th>\n",
       "      <td>McDonald-s</td>\n",
       "      <td>76777</td>\n",
       "    </tr>\n",
       "    <tr>\n",
       "      <th>779</th>\n",
       "      <td>Accenture</td>\n",
       "      <td>69026</td>\n",
       "    </tr>\n",
       "    <tr>\n",
       "      <th>29243</th>\n",
       "      <td>Target</td>\n",
       "      <td>67885</td>\n",
       "    </tr>\n",
       "    <tr>\n",
       "      <th>13178</th>\n",
       "      <td>HP-Inc</td>\n",
       "      <td>63787</td>\n",
       "    </tr>\n",
       "    <tr>\n",
       "      <th>28064</th>\n",
       "      <td>Starbucks</td>\n",
       "      <td>55325</td>\n",
       "    </tr>\n",
       "    <tr>\n",
       "      <th>15053</th>\n",
       "      <td>Infosys</td>\n",
       "      <td>53189</td>\n",
       "    </tr>\n",
       "  </tbody>\n",
       "</table>\n",
       "</div>"
      ],
      "text/plain": [
       "                                 firm   count\n",
       "1652                           Amazon  163396\n",
       "29274       Tata-Consultancy-Services  107218\n",
       "32691                         Walmart  102152\n",
       "6831   Cognizant-Technology-Solutions   84171\n",
       "19010                      McDonald-s   76777\n",
       "779                         Accenture   69026\n",
       "29243                          Target   67885\n",
       "13178                          HP-Inc   63787\n",
       "28064                       Starbucks   55325\n",
       "15053                         Infosys   53189"
      ]
     },
     "execution_count": 3,
     "metadata": {},
     "output_type": "execute_result"
    }
   ],
   "source": [
    "# show top 10 firms by review count\n",
    "df.groupby('firm').size().reset_index(name='count').sort_values(by='count',ascending=False).head(10)"
   ]
  },
  {
   "cell_type": "code",
   "execution_count": 4,
   "id": "93fe3b4b-0357-4505-94e9-d94e2e52faef",
   "metadata": {},
   "outputs": [],
   "source": [
    "firm='Infosys' # choose firm to test on\n",
    "firm_df = df[df.firm==firm]"
   ]
  },
  {
   "cell_type": "markdown",
   "id": "d891ea20-9eb3-4420-bb19-4b82e6d23be7",
   "metadata": {},
   "source": [
    "We run the summarizer by sending 5 sets of reviews (pros and cons) to the LLM and prompt it to summarize the pros and cons, 1 sentence for each pro and con in the 6 categories (if no review on category, empty string should be returned).<br>\n",
    "We then chain the process by adding the summary to the next iteration and getting the LLM to summarize it again.<br>\n",
    "We choose sets of 5 reviews per iteration as testing on 10 resulted in problematic outputs with Llama 3.2. Likely a context window issue; other models may fare better/worse.<br>\n",
    "One problem with this iterative method is that reviews from later iterations will be more 'weighted' in the final summary outputs. A better way would be to summarize reviews into batches, then summarize those batched summaries equally till a final summary is generated. Due to time and computation limitations, we carry out the iterative method."
   ]
  },
  {
   "cell_type": "code",
   "execution_count": null,
   "id": "7440b1bf-b510-4b62-ab1b-7b5483f01e62",
   "metadata": {
    "scrolled": true,
    "tags": []
   },
   "outputs": [
    {
     "data": {
      "application/vnd.jupyter.widget-view+json": {
       "model_id": "79273b0e92ce4b12aea89271c695c93d",
       "version_major": 2,
       "version_minor": 0
      },
      "text/plain": [
       "  0%|          | 0/10638 [00:00<?, ?it/s]"
      ]
     },
     "metadata": {},
     "output_type": "display_data"
    },
    {
     "name": "stdout",
     "output_type": "stream",
     "text": [
      "exception in attempt 0\n",
      "exception in attempt 0\n",
      "exception in attempt 0\n",
      "exception in attempt 0\n",
      "exception in attempt 0\n",
      "exception in attempt 0\n",
      "exception in attempt 0\n",
      "exception in attempt 1\n",
      "exception in attempt 0\n",
      "exception in attempt 0\n",
      "exception in attempt 0\n",
      "exception in attempt 0\n",
      "exception in attempt 0\n",
      "exception in attempt 0\n",
      "exception in attempt 0\n",
      "exception in attempt 0\n",
      "exception in attempt 0\n",
      "exception in attempt 0\n",
      "exception in attempt 0\n",
      "exception in attempt 0\n",
      "exception in attempt 0\n",
      "exception in attempt 1\n",
      "exception in attempt 0\n",
      "exception in attempt 0\n",
      "exception in attempt 0\n",
      "exception in attempt 0\n",
      "exception in attempt 1\n",
      "exception in attempt 0\n",
      "exception in attempt 0\n",
      "exception in attempt 0\n",
      "exception in attempt 0\n",
      "exception in attempt 0\n",
      "exception in attempt 0\n",
      "exception in attempt 0\n",
      "exception in attempt 0\n",
      "exception in attempt 0\n",
      "exception in attempt 1\n",
      "exception in attempt 0\n",
      "exception in attempt 0\n",
      "exception in attempt 0\n",
      "exception in attempt 1\n",
      "exception in attempt 0\n",
      "exception in attempt 0\n",
      "exception in attempt 0\n",
      "exception in attempt 0\n",
      "exception in attempt 0\n",
      "exception in attempt 0\n",
      "exception in attempt 0\n",
      "exception in attempt 0\n",
      "exception in attempt 0\n",
      "exception in attempt 0\n",
      "exception in attempt 0\n",
      "exception in attempt 0\n",
      "exception in attempt 0\n",
      "exception in attempt 0\n",
      "exception in attempt 0\n",
      "exception in attempt 0\n",
      "exception in attempt 0\n",
      "exception in attempt 0\n",
      "exception in attempt 0\n",
      "exception in attempt 0\n",
      "exception in attempt 0\n",
      "exception in attempt 0\n",
      "exception in attempt 0\n",
      "exception in attempt 0\n",
      "exception in attempt 0\n",
      "exception in attempt 0\n",
      "exception in attempt 0\n",
      "exception in attempt 0\n",
      "exception in attempt 0\n",
      "exception in attempt 0\n",
      "exception in attempt 0\n",
      "exception in attempt 0\n",
      "exception in attempt 0\n",
      "exception in attempt 0\n",
      "exception in attempt 0\n",
      "exception in attempt 0\n",
      "exception in attempt 1\n",
      "exception in attempt 0\n",
      "exception in attempt 0\n",
      "exception in attempt 1\n",
      "exception in attempt 2\n",
      "exception in attempt 0\n",
      "exception in attempt 0\n",
      "exception in attempt 0\n",
      "exception in attempt 0\n",
      "exception in attempt 0\n",
      "exception in attempt 0\n",
      "exception in attempt 0\n",
      "exception in attempt 0\n",
      "exception in attempt 0\n",
      "exception in attempt 1\n",
      "exception in attempt 0\n",
      "exception in attempt 0\n",
      "exception in attempt 0\n",
      "exception in attempt 0\n",
      "exception in attempt 0\n",
      "exception in attempt 0\n",
      "exception in attempt 0\n",
      "exception in attempt 1\n",
      "exception in attempt 0\n",
      "exception in attempt 0\n",
      "exception in attempt 0\n",
      "exception in attempt 0\n",
      "exception in attempt 1\n",
      "exception in attempt 0\n",
      "exception in attempt 0\n",
      "exception in attempt 0\n",
      "exception in attempt 0\n",
      "exception in attempt 1\n",
      "exception in attempt 0\n",
      "exception in attempt 0\n",
      "exception in attempt 0\n",
      "exception in attempt 0\n",
      "exception in attempt 1\n",
      "exception in attempt 0\n",
      "exception in attempt 0\n",
      "exception in attempt 0\n",
      "exception in attempt 0\n",
      "exception in attempt 0\n",
      "exception in attempt 0\n",
      "exception in attempt 1\n",
      "exception in attempt 2\n",
      "exception in attempt 3\n",
      "exception in attempt 0\n",
      "exception in attempt 0\n",
      "exception in attempt 0\n",
      "exception in attempt 0\n",
      "exception in attempt 1\n",
      "exception in attempt 0\n",
      "exception in attempt 0\n",
      "exception in attempt 0\n",
      "exception in attempt 1\n",
      "exception in attempt 0\n",
      "exception in attempt 0\n",
      "exception in attempt 0\n",
      "exception in attempt 0\n",
      "exception in attempt 0\n",
      "exception in attempt 0\n",
      "exception in attempt 1\n",
      "exception in attempt 0\n",
      "exception in attempt 0\n",
      "exception in attempt 1\n",
      "exception in attempt 0\n",
      "exception in attempt 1\n",
      "exception in attempt 0\n",
      "exception in attempt 0\n",
      "exception in attempt 0\n",
      "exception in attempt 0\n",
      "exception in attempt 0\n",
      "exception in attempt 0\n",
      "exception in attempt 0\n",
      "exception in attempt 1\n",
      "exception in attempt 0\n",
      "exception in attempt 0\n",
      "exception in attempt 0\n",
      "exception in attempt 0\n",
      "exception in attempt 0\n",
      "exception in attempt 0\n",
      "exception in attempt 0\n",
      "exception in attempt 0\n",
      "exception in attempt 0\n",
      "exception in attempt 0\n",
      "exception in attempt 0\n",
      "exception in attempt 0\n",
      "exception in attempt 0\n",
      "exception in attempt 0\n",
      "exception in attempt 0\n",
      "exception in attempt 0\n",
      "exception in attempt 0\n",
      "exception in attempt 0\n",
      "exception in attempt 1\n",
      "exception in attempt 0\n",
      "exception in attempt 0\n",
      "exception in attempt 1\n",
      "exception in attempt 0\n",
      "exception in attempt 0\n",
      "exception in attempt 0\n",
      "exception in attempt 0\n",
      "exception in attempt 0\n",
      "exception in attempt 1\n",
      "exception in attempt 0\n",
      "exception in attempt 0\n",
      "exception in attempt 0\n",
      "exception in attempt 0\n",
      "exception in attempt 0\n",
      "exception in attempt 0\n",
      "exception in attempt 0\n",
      "exception in attempt 0\n",
      "exception in attempt 0\n",
      "exception in attempt 0\n",
      "exception in attempt 0\n",
      "exception in attempt 0\n",
      "exception in attempt 0\n",
      "exception in attempt 0\n",
      "exception in attempt 1\n",
      "exception in attempt 0\n",
      "exception in attempt 0\n",
      "exception in attempt 0\n",
      "exception in attempt 1\n",
      "exception in attempt 0\n",
      "exception in attempt 0\n",
      "exception in attempt 0\n",
      "exception in attempt 1\n",
      "exception in attempt 0\n",
      "exception in attempt 0\n",
      "exception in attempt 0\n",
      "exception in attempt 0\n",
      "exception in attempt 0\n",
      "exception in attempt 0\n",
      "exception in attempt 0\n",
      "exception in attempt 0\n",
      "exception in attempt 1\n",
      "exception in attempt 0\n",
      "exception in attempt 0\n",
      "exception in attempt 0\n",
      "exception in attempt 1\n",
      "exception in attempt 2\n",
      "exception in attempt 3\n",
      "exception in attempt 0\n",
      "exception in attempt 0\n",
      "exception in attempt 0\n",
      "exception in attempt 0\n",
      "exception in attempt 0\n",
      "exception in attempt 0\n",
      "exception in attempt 0\n",
      "exception in attempt 0\n",
      "exception in attempt 0\n",
      "exception in attempt 0\n",
      "exception in attempt 0\n",
      "exception in attempt 0\n",
      "exception in attempt 0\n",
      "exception in attempt 0\n",
      "exception in attempt 0\n",
      "exception in attempt 0\n",
      "exception in attempt 0\n",
      "exception in attempt 0\n",
      "exception in attempt 0\n",
      "exception in attempt 0\n",
      "exception in attempt 0\n",
      "exception in attempt 0\n",
      "exception in attempt 1\n",
      "exception in attempt 0\n",
      "exception in attempt 1\n",
      "exception in attempt 0\n",
      "exception in attempt 0\n",
      "exception in attempt 0\n",
      "exception in attempt 0\n",
      "exception in attempt 0\n",
      "exception in attempt 0\n",
      "exception in attempt 1\n",
      "exception in attempt 0\n",
      "exception in attempt 1\n",
      "exception in attempt 2\n",
      "exception in attempt 0\n",
      "exception in attempt 0\n",
      "exception in attempt 0\n",
      "exception in attempt 0\n",
      "exception in attempt 0\n",
      "exception in attempt 0\n",
      "exception in attempt 1\n",
      "exception in attempt 2\n",
      "exception in attempt 3\n",
      "exception in attempt 4\n",
      "exception in attempt 0\n",
      "exception in attempt 0\n",
      "exception in attempt 0\n",
      "exception in attempt 0\n",
      "exception in attempt 0\n",
      "exception in attempt 0\n",
      "exception in attempt 0\n",
      "exception in attempt 0\n",
      "exception in attempt 0\n",
      "exception in attempt 0\n",
      "exception in attempt 1\n",
      "exception in attempt 2\n",
      "exception in attempt 0\n",
      "exception in attempt 0\n",
      "exception in attempt 0\n",
      "exception in attempt 0\n",
      "exception in attempt 0\n",
      "exception in attempt 0\n",
      "exception in attempt 0\n",
      "exception in attempt 0\n",
      "exception in attempt 0\n",
      "exception in attempt 0\n",
      "exception in attempt 1\n",
      "exception in attempt 2\n",
      "exception in attempt 3\n",
      "exception in attempt 0\n",
      "exception in attempt 0\n",
      "exception in attempt 0\n",
      "exception in attempt 0\n",
      "exception in attempt 0\n",
      "exception in attempt 0\n",
      "exception in attempt 1\n",
      "exception in attempt 0\n",
      "exception in attempt 0\n",
      "exception in attempt 0\n",
      "exception in attempt 1\n",
      "exception in attempt 0\n",
      "exception in attempt 0\n",
      "exception in attempt 0\n",
      "exception in attempt 0\n",
      "exception in attempt 0\n",
      "exception in attempt 1\n",
      "exception in attempt 0\n",
      "exception in attempt 0\n",
      "exception in attempt 0\n",
      "exception in attempt 0\n",
      "exception in attempt 0\n",
      "exception in attempt 0\n",
      "exception in attempt 0\n",
      "exception in attempt 0\n",
      "exception in attempt 1\n",
      "exception in attempt 0\n",
      "exception in attempt 0\n",
      "exception in attempt 0\n",
      "exception in attempt 1\n",
      "exception in attempt 0\n",
      "exception in attempt 0\n",
      "exception in attempt 1\n",
      "exception in attempt 0\n",
      "exception in attempt 0\n",
      "exception in attempt 0\n",
      "exception in attempt 0\n",
      "exception in attempt 0\n",
      "exception in attempt 0\n",
      "exception in attempt 0\n",
      "exception in attempt 0\n",
      "exception in attempt 0\n",
      "exception in attempt 0\n",
      "exception in attempt 0\n",
      "exception in attempt 0\n",
      "exception in attempt 0\n",
      "exception in attempt 0\n",
      "exception in attempt 0\n",
      "exception in attempt 0\n",
      "exception in attempt 0\n",
      "exception in attempt 0\n",
      "exception in attempt 0\n",
      "exception in attempt 0\n",
      "exception in attempt 0\n",
      "exception in attempt 0\n",
      "exception in attempt 0\n",
      "exception in attempt 1\n",
      "exception in attempt 2\n",
      "exception in attempt 0\n",
      "exception in attempt 0\n",
      "exception in attempt 0\n",
      "exception in attempt 1\n",
      "exception in attempt 2\n",
      "exception in attempt 3\n",
      "exception in attempt 0\n",
      "exception in attempt 1\n",
      "exception in attempt 0\n",
      "exception in attempt 1\n",
      "exception in attempt 0\n",
      "exception in attempt 0\n"
     ]
    }
   ],
   "source": [
    "test = False # if True, test with 2 iterations\n",
    "start_from = 0 # change if continuing iterations part way\n",
    "\n",
    "if test == True:\n",
    "    rng = range(2)\n",
    "else:\n",
    "    rng = range(start_from,math.ceil(len(firm_df)/5))\n",
    "\n",
    "# if continuing from part way, change the pros and cons lists to the output from the previous iteration.\n",
    "pros=[]\n",
    "cons=[]\n",
    "    \n",
    "for i in tqdm(rng): # set up progress bar\n",
    "    for attempt in range(5): \n",
    "        # we allow 5 tries as the LLM occasionally gives badly formatted output which results in errors.\n",
    "        # within 5 attempts the LLM should produce an output we can use.\n",
    "        try:\n",
    "            chunk = firm_df.iloc[i*5:(i*5)+5] # extract chunk of 5 reviews sets\n",
    "\n",
    "            response = ollama.chat(\n",
    "                model=\"llama3.2\",\n",
    "                messages=[\n",
    "                    {\n",
    "                        \"role\": \"system\",\n",
    "                        \"content\": \"\"\"\n",
    "                        You reply in json format like this:\n",
    "                        {\n",
    "                            \"pros\": { \"career opportunities\": \"one positive sentence describing career opportunities else return an empty string\",\n",
    "                                    \"compensation and benefits\": \"one positive sentence describing compensation and benefits else return an empty string\",\n",
    "                                    \"senior management\": \"one positive sentence describing senior management else return an empty string\",\n",
    "                                    \"work life balance\": \"one positive sentence describing work life balance else return an empty string\",\n",
    "                                    \"culture and values\": \"one positive sentence describing culture and values else return an empty string\",\n",
    "                                    \"diversity and inclusion\": \"one positive sentence describing diversity and inclusion else return an empty string}\", \n",
    "                            \"cons\": { \"career opportunities\": \"one negative sentence describing career opportunities else return an empty string\",\n",
    "                                    \"compensation and benefits\": \"one negative sentence describing compensation and benefits else return an empty string\",\n",
    "                                    \"senior management\": \"one negative sentence describing senior management else return an empty string\",\n",
    "                                    \"work life balance\": \"one negative sentence describing work life balance else return an empty string\",\n",
    "                                    \"culture and values\": \"one negative sentence describing culture and values else return an empty string\",\n",
    "                                    \"diversity and inclusion\": \"one negative sentence describing diversity and inclusion else return an empty string}\"\n",
    "                        }\n",
    "                        There should be no escape characters in the output.\n",
    "                        \"\"\",\n",
    "                    },\n",
    "                    {\n",
    "                        \"role\": \"user\",\n",
    "                        \"content\": f\"\"\"\n",
    "                        Here are positive reviews {chunk.pros.to_list()+pros}.\\n\n",
    "                        Here are negative reviews {chunk.cons.to_list()+cons}.\"\"\",\n",
    "                    },\n",
    "                ],\n",
    "                options={'num_ctx':6144} # set context window. default window is 2048 tokens\n",
    "            )\n",
    "\n",
    "            resp = response['message']['content']\n",
    "            if i%100==0: # write summary output to text file every 100 iterations\n",
    "                with open('resp.txt','w') as f:\n",
    "                    f.write(resp)    \n",
    "            resp_dict = json.loads(resp[resp.find('{'):resp.rfind('}')+1]) # load json output string to dictionary\n",
    "            pros = list(resp_dict['pros'].values()) # set pros values to list\n",
    "            cons = list(resp_dict['cons'].values()) # set cons values to list\n",
    "        except:\n",
    "            print(f'exception in attempt {attempt+1}')\n",
    "        else:\n",
    "            break\n",
    "with open('resp.txt','w') as f: # write final summary output to text file\n",
    "    f.write(resp)    "
   ]
  },
  {
   "cell_type": "code",
   "execution_count": 12,
   "id": "e8245a6b-e5f4-4015-8823-5d250596dc26",
   "metadata": {
    "scrolled": true,
    "tags": []
   },
   "outputs": [
    {
     "name": "stdout",
     "output_type": "stream",
     "text": [
      "{\n",
      "  \"pros\": {\n",
      "    \"career opportunities\": \"Some of the other contractors I worked with who were also employed by InfoSys were nice, Very good projects to work on, Lots of opportunities to move around different technologies, High Job Security and you will lot of support from other team members., It’s Good company to work., Lots of learning opportunities and career paths Experience working in varying environments.\",\n",
      "    \"compensation and benefits\": \"decent pay for entry-level, Excellent benefits, amazing training opportunities, good pay, and an excellent 401k plan with low monthly premiums and low deductible.\", \n",
      "    \"senior management\": \"\",\n",
      "    \"work life balance\": \"Flexibility working from home\\nNumerous PTO\", \n",
      "    \"culture and values\": \"\", \n",
      "    \"diversity and inclusion\": \"\"\n",
      "  },\n",
      "  \"cons\": {\n",
      "    \"career opportunities\": \"They didn’t allow anyone to take any vacation or PTO of any kind (lol you probably think I’m joking but I’m not at all)., - travelling\\n- not very flexible\", \n",
      "    \"compensation and benefits\": \"-Poor benefit\", \"-Poor management\", \"-Poor work-life balance.\\nNo work life balance. Manager driven culture., poor work-life balance.\", \n",
      "    \"senior management\": \"-Poor management\", \n",
      "    \"work life balance\": \"-Poor work-life balance.\", \n",
      "    \"culture and values\": \"Too much Indian corporate culture. (I was at Infosys Limited in the US)\", \n",
      "    \"diversity and inclusion\": \"Discrimination against non-south asian employees., Treats you like livestock. Severely underpays for most positions. Will not communicate very well with you.\"\n",
      "  }\n",
      "}\n"
     ]
    }
   ],
   "source": [
    "print(resp)"
   ]
  },
  {
   "cell_type": "markdown",
   "id": "215ccb1e-672b-450c-896d-c8c8d9b928a5",
   "metadata": {},
   "source": [
    "---\n",
    "# Outputs to df<a name=\"output\"></a>"
   ]
  },
  {
   "cell_type": "code",
   "execution_count": 3,
   "id": "6fd1c3af-e685-470c-88f0-cce617714e77",
   "metadata": {},
   "outputs": [],
   "source": [
    "filenames = os.listdir('./output')"
   ]
  },
  {
   "cell_type": "code",
   "execution_count": 11,
   "id": "58cce086-2151-49e0-81b2-b77c5072b77c",
   "metadata": {},
   "outputs": [],
   "source": [
    "firms = [x.split('_')[1] for x in filenames[:] if x.endswith('_19.txt')]\n",
    "df_files = [x for x in filenames[:] if x.endswith('_19.txt')]"
   ]
  },
  {
   "cell_type": "code",
   "execution_count": 50,
   "id": "6eb0c467-da5d-4167-803a-1b531c8c61ec",
   "metadata": {},
   "outputs": [
    {
     "data": {
      "application/vnd.jupyter.widget-view+json": {
       "model_id": "e4c62c0dbe764eb09a3ed68c6f6d4185",
       "version_major": 2,
       "version_minor": 0
      },
      "text/plain": [
       "  0%|          | 0/1000 [00:00<?, ?it/s]"
      ]
     },
     "metadata": {},
     "output_type": "display_data"
    }
   ],
   "source": [
    "reviews = {}\n",
    "zipped = list(zip(firms[:],df_files[:]))\n",
    "for i in (pbar := tqdm(range(len(zipped)))):\n",
    "    firm,df_file = zipped[i]\n",
    "    pbar.set_description(df_file)\n",
    "    try:\n",
    "        with open(os.path.join('./output',df_file),'r') as f:\n",
    "            filetxt = f.read()\n",
    "    except:\n",
    "        with open(os.path.join('./output',df_file),'r',encoding='utf-8') as f:\n",
    "            filetxt = f.read()\n",
    "    filedict = json.loads('{'+filetxt.split('{',maxsplit=1)[1].rsplit('}',maxsplit=1)[0]+'}')\n",
    "    reviews[firm] = filedict"
   ]
  },
  {
   "cell_type": "code",
   "execution_count": 93,
   "id": "84f22909-9bd7-4b6f-be33-f04ae276aca8",
   "metadata": {},
   "outputs": [
    {
     "data": {
      "text/plain": [
       "['pros: career opportunities',\n",
       " 'pros: compensation and benefits',\n",
       " 'pros: senior management',\n",
       " 'pros: work life balance',\n",
       " 'pros: culture and values',\n",
       " 'pros: diversity and inclusion',\n",
       " 'cons: career opportunities',\n",
       " 'cons: compensation and benefits',\n",
       " 'cons: senior management',\n",
       " 'cons: work life balance',\n",
       " 'cons: culture and values',\n",
       " 'cons: diversity and inclusion']"
      ]
     },
     "execution_count": 93,
     "metadata": {},
     "output_type": "execute_result"
    }
   ],
   "source": [
    "col_headers = ['pros: '+x for x in list(reviews['AMR']['pros'].keys())]+\\\n",
    "                ['cons: '+x for x in list(reviews['AMR']['cons'].keys())]\n",
    "col_headers"
   ]
  },
  {
   "cell_type": "code",
   "execution_count": 90,
   "id": "82c85aa4-ee1b-48e7-bee4-3bf470a5b029",
   "metadata": {},
   "outputs": [],
   "source": [
    "def reviews_to_list(review_dict):\n",
    "    p_co = review_dict['pros'].get('career opportunities','')\n",
    "    p_cb = review_dict['pros'].get('compensation and benefits','')\n",
    "    p_cv = review_dict['pros'].get('culture and values','')\n",
    "    p_di = review_dict['pros'].get('diversity and inclusion','')\n",
    "    p_sm = review_dict['pros'].get('senior management','')\n",
    "    p_wlb = review_dict['pros'].get('work life balance','')\n",
    "    n_co = review_dict['cons'].get('career opportunities','')\n",
    "    n_cb = review_dict['cons'].get('compensation and benefits','')\n",
    "    n_cv = review_dict['cons'].get('culture and values','')\n",
    "    n_di = review_dict['cons'].get('diversity and inclusion',review_dict['cons'].get('Diversity and inclusion',''))\n",
    "    n_sm = review_dict['cons'].get('senior management','')\n",
    "    n_wlb = review_dict['cons'].get('work life balance','')\n",
    "    review_list = [p_co,p_cb,p_sm,p_wlb,p_cv,p_di,n_co,n_cb,n_sm,n_wlb,n_cv,n_di]\n",
    "    return review_list"
   ]
  },
  {
   "cell_type": "code",
   "execution_count": 92,
   "id": "25b67fa2-0d6b-4e0c-8a4a-7500e3a35d07",
   "metadata": {},
   "outputs": [],
   "source": [
    "df_cols = []\n",
    "firms = reviews.keys()\n",
    "for firm in firms:\n",
    "    df_cols.append(reviews_to_list(reviews[firm]))"
   ]
  },
  {
   "cell_type": "code",
   "execution_count": 107,
   "id": "dc84329e-57f4-4800-bd90-a7834ea73e5d",
   "metadata": {},
   "outputs": [
    {
     "data": {
      "text/html": [
       "<div>\n",
       "<style scoped>\n",
       "    .dataframe tbody tr th:only-of-type {\n",
       "        vertical-align: middle;\n",
       "    }\n",
       "\n",
       "    .dataframe tbody tr th {\n",
       "        vertical-align: top;\n",
       "    }\n",
       "\n",
       "    .dataframe thead th {\n",
       "        text-align: right;\n",
       "    }\n",
       "</style>\n",
       "<table border=\"1\" class=\"dataframe\">\n",
       "  <thead>\n",
       "    <tr style=\"text-align: right;\">\n",
       "      <th></th>\n",
       "      <th>firm</th>\n",
       "      <th>pros: career opportunities</th>\n",
       "      <th>pros: compensation and benefits</th>\n",
       "      <th>pros: senior management</th>\n",
       "      <th>pros: work life balance</th>\n",
       "      <th>pros: culture and values</th>\n",
       "      <th>pros: diversity and inclusion</th>\n",
       "      <th>cons: career opportunities</th>\n",
       "      <th>cons: compensation and benefits</th>\n",
       "      <th>cons: senior management</th>\n",
       "      <th>cons: work life balance</th>\n",
       "      <th>cons: culture and values</th>\n",
       "      <th>cons: diversity and inclusion</th>\n",
       "    </tr>\n",
       "  </thead>\n",
       "  <tbody>\n",
       "    <tr>\n",
       "      <th>0</th>\n",
       "      <td>AMR</td>\n",
       "      <td>AMR has multiple locations throughout the glob...</td>\n",
       "      <td>Good pay with ability to make a lot more with ...</td>\n",
       "      <td></td>\n",
       "      <td>Only work 3 days a week. Every other 3 day wee...</td>\n",
       "      <td>Great company culture, fast moving industry, o...</td>\n",
       "      <td></td>\n",
       "      <td>You will get called in a lot. Mandatory overti...</td>\n",
       "      <td>Have to work a lot of O/T because always short...</td>\n",
       "      <td>Management has no idea what they’re doing or h...</td>\n",
       "      <td>On Call hours can be very high, high stress en...</td>\n",
       "      <td>Very bad upper management, Lack of culture Shi...</td>\n",
       "      <td>-Two Separate Division with Different Contract...</td>\n",
       "    </tr>\n",
       "    <tr>\n",
       "      <th>1</th>\n",
       "      <td>International-Flavors-&amp;-Fragrances</td>\n",
       "      <td>The company offers always new opportunities an...</td>\n",
       "      <td>Good health care benefits and pay; Really good...</td>\n",
       "      <td>Agile &amp; flexible team; management that cares f...</td>\n",
       "      <td>Work-life balance as the manufacturing sides a...</td>\n",
       "      <td>Financially Solid Company with good values</td>\n",
       "      <td>Most people are good to deal with; The company...</td>\n",
       "      <td>Flat structure, limited hierarchy and presumab...</td>\n",
       "      <td>Pay is not great, especially when you’re short...</td>\n",
       "      <td>Micromanagement runs rampant. Procurement etc....</td>\n",
       "      <td>No work life balance at all; High pressure and...</td>\n",
       "      <td>Too much bereaucracy i guess.</td>\n",
       "      <td>the wages are a bit lower compared to other mu...</td>\n",
       "    </tr>\n",
       "    <tr>\n",
       "      <th>2</th>\n",
       "      <td>Interserve</td>\n",
       "      <td>Opportunity to grow and development</td>\n",
       "      <td>Good salary, excellent pay, Good hours, paid o...</td>\n",
       "      <td>Some senior managers willing to help and advise</td>\n",
       "      <td>Good work life balance - plenty of opportuniti...</td>\n",
       "      <td>good and friendly culture and friends, Good pe...</td>\n",
       "      <td></td>\n",
       "      <td>None. Shocking health and safety. No wellbeing...</td>\n",
       "      <td>Low salaries not clear career path, Minimum ho...</td>\n",
       "      <td>Senior management. Shareholders. Opaque (no or...</td>\n",
       "      <td>Work can be boring, Work life balance could be...</td>\n",
       "      <td>very flat culture, no promotions</td>\n",
       "      <td></td>\n",
       "    </tr>\n",
       "  </tbody>\n",
       "</table>\n",
       "</div>"
      ],
      "text/plain": [
       "                                 firm  \\\n",
       "0                                 AMR   \n",
       "1  International-Flavors-&-Fragrances   \n",
       "2                          Interserve   \n",
       "\n",
       "                          pros: career opportunities  \\\n",
       "0  AMR has multiple locations throughout the glob...   \n",
       "1  The company offers always new opportunities an...   \n",
       "2                Opportunity to grow and development   \n",
       "\n",
       "                     pros: compensation and benefits  \\\n",
       "0  Good pay with ability to make a lot more with ...   \n",
       "1  Good health care benefits and pay; Really good...   \n",
       "2  Good salary, excellent pay, Good hours, paid o...   \n",
       "\n",
       "                             pros: senior management  \\\n",
       "0                                                      \n",
       "1  Agile & flexible team; management that cares f...   \n",
       "2    Some senior managers willing to help and advise   \n",
       "\n",
       "                             pros: work life balance  \\\n",
       "0  Only work 3 days a week. Every other 3 day wee...   \n",
       "1  Work-life balance as the manufacturing sides a...   \n",
       "2  Good work life balance - plenty of opportuniti...   \n",
       "\n",
       "                            pros: culture and values  \\\n",
       "0  Great company culture, fast moving industry, o...   \n",
       "1         Financially Solid Company with good values   \n",
       "2  good and friendly culture and friends, Good pe...   \n",
       "\n",
       "                       pros: diversity and inclusion  \\\n",
       "0                                                      \n",
       "1  Most people are good to deal with; The company...   \n",
       "2                                                      \n",
       "\n",
       "                          cons: career opportunities  \\\n",
       "0  You will get called in a lot. Mandatory overti...   \n",
       "1  Flat structure, limited hierarchy and presumab...   \n",
       "2  None. Shocking health and safety. No wellbeing...   \n",
       "\n",
       "                     cons: compensation and benefits  \\\n",
       "0  Have to work a lot of O/T because always short...   \n",
       "1  Pay is not great, especially when you’re short...   \n",
       "2  Low salaries not clear career path, Minimum ho...   \n",
       "\n",
       "                             cons: senior management  \\\n",
       "0  Management has no idea what they’re doing or h...   \n",
       "1  Micromanagement runs rampant. Procurement etc....   \n",
       "2  Senior management. Shareholders. Opaque (no or...   \n",
       "\n",
       "                             cons: work life balance  \\\n",
       "0  On Call hours can be very high, high stress en...   \n",
       "1  No work life balance at all; High pressure and...   \n",
       "2  Work can be boring, Work life balance could be...   \n",
       "\n",
       "                            cons: culture and values  \\\n",
       "0  Very bad upper management, Lack of culture Shi...   \n",
       "1                      Too much bereaucracy i guess.   \n",
       "2                   very flat culture, no promotions   \n",
       "\n",
       "                       cons: diversity and inclusion  \n",
       "0  -Two Separate Division with Different Contract...  \n",
       "1  the wages are a bit lower compared to other mu...  \n",
       "2                                                     "
      ]
     },
     "execution_count": 107,
     "metadata": {},
     "output_type": "execute_result"
    }
   ],
   "source": [
    "summ_df = pd.DataFrame(df_cols,index=firms,columns=col_headers).reset_index().rename(columns={'index':'firm'})\n",
    "summ_df.head(3)"
   ]
  },
  {
   "cell_type": "code",
   "execution_count": 111,
   "id": "fd92b5ae-fbdf-4a31-9ad7-cdbf1b1d9b4e",
   "metadata": {},
   "outputs": [],
   "source": [
    "ratings_df = pd.read_csv('1_firm_summary.csv').rename(columns={'Unnamed: 0':'index'})"
   ]
  },
  {
   "cell_type": "code",
   "execution_count": 119,
   "id": "c8a82747-d9ff-4531-a7ff-8a6158965ab5",
   "metadata": {},
   "outputs": [
    {
     "data": {
      "text/html": [
       "<div>\n",
       "<style scoped>\n",
       "    .dataframe tbody tr th:only-of-type {\n",
       "        vertical-align: middle;\n",
       "    }\n",
       "\n",
       "    .dataframe tbody tr th {\n",
       "        vertical-align: top;\n",
       "    }\n",
       "\n",
       "    .dataframe thead th {\n",
       "        text-align: right;\n",
       "    }\n",
       "</style>\n",
       "<table border=\"1\" class=\"dataframe\">\n",
       "  <thead>\n",
       "    <tr style=\"text-align: right;\">\n",
       "      <th></th>\n",
       "      <th>firm</th>\n",
       "      <th>pros: career opportunities</th>\n",
       "      <th>pros: compensation and benefits</th>\n",
       "      <th>pros: senior management</th>\n",
       "      <th>pros: work life balance</th>\n",
       "      <th>pros: culture and values</th>\n",
       "      <th>pros: diversity and inclusion</th>\n",
       "      <th>cons: career opportunities</th>\n",
       "      <th>cons: compensation and benefits</th>\n",
       "      <th>cons: senior management</th>\n",
       "      <th>...</th>\n",
       "      <th>cons: culture and values</th>\n",
       "      <th>cons: diversity and inclusion</th>\n",
       "      <th>index</th>\n",
       "      <th>opportunities</th>\n",
       "      <th>compensation</th>\n",
       "      <th>management</th>\n",
       "      <th>worklife_balance</th>\n",
       "      <th>culture</th>\n",
       "      <th>diversity</th>\n",
       "      <th>kmeans_labels</th>\n",
       "    </tr>\n",
       "  </thead>\n",
       "  <tbody>\n",
       "    <tr>\n",
       "      <th>0</th>\n",
       "      <td>AMR</td>\n",
       "      <td>AMR has multiple locations throughout the glob...</td>\n",
       "      <td>Good pay with ability to make a lot more with ...</td>\n",
       "      <td></td>\n",
       "      <td>Only work 3 days a week. Every other 3 day wee...</td>\n",
       "      <td>Great company culture, fast moving industry, o...</td>\n",
       "      <td></td>\n",
       "      <td>You will get called in a lot. Mandatory overti...</td>\n",
       "      <td>Have to work a lot of O/T because always short...</td>\n",
       "      <td>Management has no idea what they’re doing or h...</td>\n",
       "      <td>...</td>\n",
       "      <td>Very bad upper management, Lack of culture Shi...</td>\n",
       "      <td>-Two Separate Division with Different Contract...</td>\n",
       "      <td>877</td>\n",
       "      <td>3.02</td>\n",
       "      <td>2.82</td>\n",
       "      <td>2.61</td>\n",
       "      <td>2.64</td>\n",
       "      <td>2.69</td>\n",
       "      <td>3.30</td>\n",
       "      <td>3</td>\n",
       "    </tr>\n",
       "    <tr>\n",
       "      <th>1</th>\n",
       "      <td>International-Flavors-&amp;-Fragrances</td>\n",
       "      <td>The company offers always new opportunities an...</td>\n",
       "      <td>Good health care benefits and pay; Really good...</td>\n",
       "      <td>Agile &amp; flexible team; management that cares f...</td>\n",
       "      <td>Work-life balance as the manufacturing sides a...</td>\n",
       "      <td>Financially Solid Company with good values</td>\n",
       "      <td>Most people are good to deal with; The company...</td>\n",
       "      <td>Flat structure, limited hierarchy and presumab...</td>\n",
       "      <td>Pay is not great, especially when you’re short...</td>\n",
       "      <td>Micromanagement runs rampant. Procurement etc....</td>\n",
       "      <td>...</td>\n",
       "      <td>Too much bereaucracy i guess.</td>\n",
       "      <td>the wages are a bit lower compared to other mu...</td>\n",
       "      <td>1970</td>\n",
       "      <td>3.28</td>\n",
       "      <td>3.41</td>\n",
       "      <td>3.00</td>\n",
       "      <td>3.35</td>\n",
       "      <td>3.49</td>\n",
       "      <td>3.75</td>\n",
       "      <td>4</td>\n",
       "    </tr>\n",
       "    <tr>\n",
       "      <th>2</th>\n",
       "      <td>Interserve</td>\n",
       "      <td>Opportunity to grow and development</td>\n",
       "      <td>Good salary, excellent pay, Good hours, paid o...</td>\n",
       "      <td>Some senior managers willing to help and advise</td>\n",
       "      <td>Good work life balance - plenty of opportuniti...</td>\n",
       "      <td>good and friendly culture and friends, Good pe...</td>\n",
       "      <td></td>\n",
       "      <td>None. Shocking health and safety. No wellbeing...</td>\n",
       "      <td>Low salaries not clear career path, Minimum ho...</td>\n",
       "      <td>Senior management. Shareholders. Opaque (no or...</td>\n",
       "      <td>...</td>\n",
       "      <td>very flat culture, no promotions</td>\n",
       "      <td></td>\n",
       "      <td>2964</td>\n",
       "      <td>2.59</td>\n",
       "      <td>2.78</td>\n",
       "      <td>2.58</td>\n",
       "      <td>2.88</td>\n",
       "      <td>2.77</td>\n",
       "      <td>3.24</td>\n",
       "      <td>3</td>\n",
       "    </tr>\n",
       "  </tbody>\n",
       "</table>\n",
       "<p>3 rows × 21 columns</p>\n",
       "</div>"
      ],
      "text/plain": [
       "                                 firm  \\\n",
       "0                                 AMR   \n",
       "1  International-Flavors-&-Fragrances   \n",
       "2                          Interserve   \n",
       "\n",
       "                          pros: career opportunities  \\\n",
       "0  AMR has multiple locations throughout the glob...   \n",
       "1  The company offers always new opportunities an...   \n",
       "2                Opportunity to grow and development   \n",
       "\n",
       "                     pros: compensation and benefits  \\\n",
       "0  Good pay with ability to make a lot more with ...   \n",
       "1  Good health care benefits and pay; Really good...   \n",
       "2  Good salary, excellent pay, Good hours, paid o...   \n",
       "\n",
       "                             pros: senior management  \\\n",
       "0                                                      \n",
       "1  Agile & flexible team; management that cares f...   \n",
       "2    Some senior managers willing to help and advise   \n",
       "\n",
       "                             pros: work life balance  \\\n",
       "0  Only work 3 days a week. Every other 3 day wee...   \n",
       "1  Work-life balance as the manufacturing sides a...   \n",
       "2  Good work life balance - plenty of opportuniti...   \n",
       "\n",
       "                            pros: culture and values  \\\n",
       "0  Great company culture, fast moving industry, o...   \n",
       "1         Financially Solid Company with good values   \n",
       "2  good and friendly culture and friends, Good pe...   \n",
       "\n",
       "                       pros: diversity and inclusion  \\\n",
       "0                                                      \n",
       "1  Most people are good to deal with; The company...   \n",
       "2                                                      \n",
       "\n",
       "                          cons: career opportunities  \\\n",
       "0  You will get called in a lot. Mandatory overti...   \n",
       "1  Flat structure, limited hierarchy and presumab...   \n",
       "2  None. Shocking health and safety. No wellbeing...   \n",
       "\n",
       "                     cons: compensation and benefits  \\\n",
       "0  Have to work a lot of O/T because always short...   \n",
       "1  Pay is not great, especially when you’re short...   \n",
       "2  Low salaries not clear career path, Minimum ho...   \n",
       "\n",
       "                             cons: senior management  ...  \\\n",
       "0  Management has no idea what they’re doing or h...  ...   \n",
       "1  Micromanagement runs rampant. Procurement etc....  ...   \n",
       "2  Senior management. Shareholders. Opaque (no or...  ...   \n",
       "\n",
       "                            cons: culture and values  \\\n",
       "0  Very bad upper management, Lack of culture Shi...   \n",
       "1                      Too much bereaucracy i guess.   \n",
       "2                   very flat culture, no promotions   \n",
       "\n",
       "                       cons: diversity and inclusion index  opportunities  \\\n",
       "0  -Two Separate Division with Different Contract...   877           3.02   \n",
       "1  the wages are a bit lower compared to other mu...  1970           3.28   \n",
       "2                                                     2964           2.59   \n",
       "\n",
       "   compensation  management  worklife_balance  culture  diversity  \\\n",
       "0          2.82        2.61              2.64     2.69       3.30   \n",
       "1          3.41        3.00              3.35     3.49       3.75   \n",
       "2          2.78        2.58              2.88     2.77       3.24   \n",
       "\n",
       "   kmeans_labels  \n",
       "0              3  \n",
       "1              4  \n",
       "2              3  \n",
       "\n",
       "[3 rows x 21 columns]"
      ]
     },
     "execution_count": 119,
     "metadata": {},
     "output_type": "execute_result"
    }
   ],
   "source": [
    "comb_df = summ_df.merge(ratings_df,on='firm',how='left')\n",
    "comb_df.head(3)"
   ]
  },
  {
   "cell_type": "code",
   "execution_count": 120,
   "id": "1a4299ab-441e-43c1-b1e6-d9336aaf2c56",
   "metadata": {},
   "outputs": [],
   "source": [
    "comb_df.to_csv('1_summary_reviews.csv')"
   ]
  },
  {
   "cell_type": "markdown",
   "id": "4286a51f-19c0-4a8d-96fc-874aff55baca",
   "metadata": {},
   "source": [
    "---\n",
    "# RAG method (explored part way, not utilized) <a name=\"rag\"></a>"
   ]
  },
  {
   "cell_type": "markdown",
   "id": "b7781b5b-382c-421a-800f-d8dd7baddd09",
   "metadata": {},
   "source": [
    "In the RAG method, we give the LLM access to context in a speedy manner by using semantic search in a vector store.<br>\n",
    "Steps:\n",
    "- Split document to chunks\n",
    "- Convert document chunks to embeddings\n",
    "- Use ChromaDB to store embeddings in a vector store (sqlite db will be created)\n",
    "- Perform semantic search on keywords related to prompt, return top <i>n</i> matched documents\n",
    "- Matched documents are used as prompt context\n",
    "\n",
    "For our purposes, an example of this process will be to do a semantic search on the top 10 reviews related to 'work life balance' and prompt the LLM to summarize these reviews."
   ]
  },
  {
   "cell_type": "code",
   "execution_count": 9,
   "id": "28f69c17-0af9-4b36-87f6-e0fc450f3008",
   "metadata": {},
   "outputs": [],
   "source": [
    "nvy_pros = df[df.firm=='US-Navy'].pros.to_list()"
   ]
  },
  {
   "cell_type": "code",
   "execution_count": 10,
   "id": "6d194109-8efb-4bc5-97e2-2e10833a6943",
   "metadata": {},
   "outputs": [],
   "source": [
    "text_splitter = RecursiveCharacterTextSplitter(chunk_size=500, chunk_overlap=0)"
   ]
  },
  {
   "cell_type": "code",
   "execution_count": 11,
   "id": "0be898cd-7714-4aac-ad70-26c438d10aff",
   "metadata": {},
   "outputs": [],
   "source": [
    "all_splits = text_splitter.create_documents(nvy_pros)"
   ]
  },
  {
   "cell_type": "markdown",
   "id": "d795e5bb-2871-4fee-99b5-05c33e9a8966",
   "metadata": {},
   "source": [
    "Document batch size was exceeded when trying to create vector store below.<br>\n",
    "Embedding generation and push to vector store should be done in batched loops.<br>\n",
    "We continued no further on RAG exploration from this point."
   ]
  },
  {
   "cell_type": "code",
   "execution_count": 12,
   "id": "4763afd3-addf-4109-89c2-a7d461405af6",
   "metadata": {
    "scrolled": true
   },
   "outputs": [
    {
     "name": "stderr",
     "output_type": "stream",
     "text": [
      "OllamaEmbeddings: 100%|█████████████████████████████████████████████████████████| 43697/43697 [1:09:06<00:00, 10.54it/s]\n"
     ]
    },
    {
     "ename": "ValueError",
     "evalue": "Batch size 43697 exceeds maximum batch size 41666",
     "output_type": "error",
     "traceback": [
      "\u001b[0;31m---------------------------------------------------------------------------\u001b[0m",
      "\u001b[0;31mValueError\u001b[0m                                Traceback (most recent call last)",
      "Cell \u001b[0;32mIn[12], line 1\u001b[0m\n\u001b[0;32m----> 1\u001b[0m vectorstore \u001b[38;5;241m=\u001b[39m \u001b[43mChroma\u001b[49m\u001b[38;5;241;43m.\u001b[39;49m\u001b[43mfrom_documents\u001b[49m\u001b[43m(\u001b[49m\n\u001b[1;32m      2\u001b[0m \u001b[43m    \u001b[49m\u001b[43mdocuments\u001b[49m\u001b[38;5;241;43m=\u001b[39;49m\u001b[43mall_splits\u001b[49m\u001b[43m,\u001b[49m\n\u001b[1;32m      3\u001b[0m \u001b[43m    \u001b[49m\u001b[43membedding\u001b[49m\u001b[38;5;241;43m=\u001b[39;49m\u001b[43mOllamaEmbeddings\u001b[49m\u001b[43m(\u001b[49m\u001b[43mmodel\u001b[49m\u001b[38;5;241;43m=\u001b[39;49m\u001b[38;5;124;43m\"\u001b[39;49m\u001b[38;5;124;43mllama3.2\u001b[39;49m\u001b[38;5;124;43m\"\u001b[39;49m\u001b[43m,\u001b[49m\u001b[43m \u001b[49m\u001b[43mshow_progress\u001b[49m\u001b[38;5;241;43m=\u001b[39;49m\u001b[38;5;28;43;01mTrue\u001b[39;49;00m\u001b[43m)\u001b[49m\u001b[43m,\u001b[49m\n\u001b[1;32m      4\u001b[0m \u001b[43m    \u001b[49m\u001b[43mpersist_directory\u001b[49m\u001b[38;5;241;43m=\u001b[39;49m\u001b[38;5;124;43m\"\u001b[39;49m\u001b[38;5;124;43m./chroma_db\u001b[39;49m\u001b[38;5;124;43m\"\u001b[39;49m\u001b[43m,\u001b[49m\n\u001b[1;32m      5\u001b[0m \u001b[43m)\u001b[49m\n\u001b[1;32m      6\u001b[0m vectorstore\u001b[38;5;241m.\u001b[39mpersist()\n",
      "File \u001b[0;32m/mnt/f/conda_env/ollama/lib/python3.12/site-packages/langchain_chroma/vectorstores.py:1128\u001b[0m, in \u001b[0;36mChroma.from_documents\u001b[0;34m(cls, documents, embedding, ids, collection_name, persist_directory, client_settings, client, collection_metadata, **kwargs)\u001b[0m\n\u001b[1;32m   1126\u001b[0m texts \u001b[38;5;241m=\u001b[39m [doc\u001b[38;5;241m.\u001b[39mpage_content \u001b[38;5;28;01mfor\u001b[39;00m doc \u001b[38;5;129;01min\u001b[39;00m documents]\n\u001b[1;32m   1127\u001b[0m metadatas \u001b[38;5;241m=\u001b[39m [doc\u001b[38;5;241m.\u001b[39mmetadata \u001b[38;5;28;01mfor\u001b[39;00m doc \u001b[38;5;129;01min\u001b[39;00m documents]\n\u001b[0;32m-> 1128\u001b[0m \u001b[38;5;28;01mreturn\u001b[39;00m \u001b[38;5;28;43mcls\u001b[39;49m\u001b[38;5;241;43m.\u001b[39;49m\u001b[43mfrom_texts\u001b[49m\u001b[43m(\u001b[49m\n\u001b[1;32m   1129\u001b[0m \u001b[43m    \u001b[49m\u001b[43mtexts\u001b[49m\u001b[38;5;241;43m=\u001b[39;49m\u001b[43mtexts\u001b[49m\u001b[43m,\u001b[49m\n\u001b[1;32m   1130\u001b[0m \u001b[43m    \u001b[49m\u001b[43membedding\u001b[49m\u001b[38;5;241;43m=\u001b[39;49m\u001b[43membedding\u001b[49m\u001b[43m,\u001b[49m\n\u001b[1;32m   1131\u001b[0m \u001b[43m    \u001b[49m\u001b[43mmetadatas\u001b[49m\u001b[38;5;241;43m=\u001b[39;49m\u001b[43mmetadatas\u001b[49m\u001b[43m,\u001b[49m\n\u001b[1;32m   1132\u001b[0m \u001b[43m    \u001b[49m\u001b[43mids\u001b[49m\u001b[38;5;241;43m=\u001b[39;49m\u001b[43mids\u001b[49m\u001b[43m,\u001b[49m\n\u001b[1;32m   1133\u001b[0m \u001b[43m    \u001b[49m\u001b[43mcollection_name\u001b[49m\u001b[38;5;241;43m=\u001b[39;49m\u001b[43mcollection_name\u001b[49m\u001b[43m,\u001b[49m\n\u001b[1;32m   1134\u001b[0m \u001b[43m    \u001b[49m\u001b[43mpersist_directory\u001b[49m\u001b[38;5;241;43m=\u001b[39;49m\u001b[43mpersist_directory\u001b[49m\u001b[43m,\u001b[49m\n\u001b[1;32m   1135\u001b[0m \u001b[43m    \u001b[49m\u001b[43mclient_settings\u001b[49m\u001b[38;5;241;43m=\u001b[39;49m\u001b[43mclient_settings\u001b[49m\u001b[43m,\u001b[49m\n\u001b[1;32m   1136\u001b[0m \u001b[43m    \u001b[49m\u001b[43mclient\u001b[49m\u001b[38;5;241;43m=\u001b[39;49m\u001b[43mclient\u001b[49m\u001b[43m,\u001b[49m\n\u001b[1;32m   1137\u001b[0m \u001b[43m    \u001b[49m\u001b[43mcollection_metadata\u001b[49m\u001b[38;5;241;43m=\u001b[39;49m\u001b[43mcollection_metadata\u001b[49m\u001b[43m,\u001b[49m\n\u001b[1;32m   1138\u001b[0m \u001b[43m    \u001b[49m\u001b[38;5;241;43m*\u001b[39;49m\u001b[38;5;241;43m*\u001b[39;49m\u001b[43mkwargs\u001b[49m\u001b[43m,\u001b[49m\n\u001b[1;32m   1139\u001b[0m \u001b[43m\u001b[49m\u001b[43m)\u001b[49m\n",
      "File \u001b[0;32m/mnt/f/conda_env/ollama/lib/python3.12/site-packages/langchain_chroma/vectorstores.py:1089\u001b[0m, in \u001b[0;36mChroma.from_texts\u001b[0;34m(cls, texts, embedding, metadatas, ids, collection_name, persist_directory, client_settings, client, collection_metadata, **kwargs)\u001b[0m\n\u001b[1;32m   1083\u001b[0m         chroma_collection\u001b[38;5;241m.\u001b[39madd_texts(\n\u001b[1;32m   1084\u001b[0m             texts\u001b[38;5;241m=\u001b[39mbatch[\u001b[38;5;241m3\u001b[39m] \u001b[38;5;28;01mif\u001b[39;00m batch[\u001b[38;5;241m3\u001b[39m] \u001b[38;5;28;01melse\u001b[39;00m [],\n\u001b[1;32m   1085\u001b[0m             metadatas\u001b[38;5;241m=\u001b[39mbatch[\u001b[38;5;241m2\u001b[39m] \u001b[38;5;28;01mif\u001b[39;00m batch[\u001b[38;5;241m2\u001b[39m] \u001b[38;5;28;01melse\u001b[39;00m \u001b[38;5;28;01mNone\u001b[39;00m,  \u001b[38;5;66;03m# type: ignore\u001b[39;00m\n\u001b[1;32m   1086\u001b[0m             ids\u001b[38;5;241m=\u001b[39mbatch[\u001b[38;5;241m0\u001b[39m],\n\u001b[1;32m   1087\u001b[0m         )\n\u001b[1;32m   1088\u001b[0m \u001b[38;5;28;01melse\u001b[39;00m:\n\u001b[0;32m-> 1089\u001b[0m     \u001b[43mchroma_collection\u001b[49m\u001b[38;5;241;43m.\u001b[39;49m\u001b[43madd_texts\u001b[49m\u001b[43m(\u001b[49m\u001b[43mtexts\u001b[49m\u001b[38;5;241;43m=\u001b[39;49m\u001b[43mtexts\u001b[49m\u001b[43m,\u001b[49m\u001b[43m \u001b[49m\u001b[43mmetadatas\u001b[49m\u001b[38;5;241;43m=\u001b[39;49m\u001b[43mmetadatas\u001b[49m\u001b[43m,\u001b[49m\u001b[43m \u001b[49m\u001b[43mids\u001b[49m\u001b[38;5;241;43m=\u001b[39;49m\u001b[43mids\u001b[49m\u001b[43m)\u001b[49m\n\u001b[1;32m   1090\u001b[0m \u001b[38;5;28;01mreturn\u001b[39;00m chroma_collection\n",
      "File \u001b[0;32m/mnt/f/conda_env/ollama/lib/python3.12/site-packages/langchain_chroma/vectorstores.py:551\u001b[0m, in \u001b[0;36mChroma.add_texts\u001b[0;34m(self, texts, metadatas, ids, **kwargs)\u001b[0m\n\u001b[1;32m    547\u001b[0m         embeddings_without_metadatas \u001b[38;5;241m=\u001b[39m (\n\u001b[1;32m    548\u001b[0m             [embeddings[j] \u001b[38;5;28;01mfor\u001b[39;00m j \u001b[38;5;129;01min\u001b[39;00m empty_ids] \u001b[38;5;28;01mif\u001b[39;00m embeddings \u001b[38;5;28;01melse\u001b[39;00m \u001b[38;5;28;01mNone\u001b[39;00m\n\u001b[1;32m    549\u001b[0m         )\n\u001b[1;32m    550\u001b[0m         ids_without_metadatas \u001b[38;5;241m=\u001b[39m [ids[j] \u001b[38;5;28;01mfor\u001b[39;00m j \u001b[38;5;129;01min\u001b[39;00m empty_ids]\n\u001b[0;32m--> 551\u001b[0m         \u001b[38;5;28;43mself\u001b[39;49m\u001b[38;5;241;43m.\u001b[39;49m\u001b[43m_collection\u001b[49m\u001b[38;5;241;43m.\u001b[39;49m\u001b[43mupsert\u001b[49m\u001b[43m(\u001b[49m\n\u001b[1;32m    552\u001b[0m \u001b[43m            \u001b[49m\u001b[43membeddings\u001b[49m\u001b[38;5;241;43m=\u001b[39;49m\u001b[43membeddings_without_metadatas\u001b[49m\u001b[43m,\u001b[49m\u001b[43m  \u001b[49m\u001b[38;5;66;43;03m# type: ignore\u001b[39;49;00m\n\u001b[1;32m    553\u001b[0m \u001b[43m            \u001b[49m\u001b[43mdocuments\u001b[49m\u001b[38;5;241;43m=\u001b[39;49m\u001b[43mtexts_without_metadatas\u001b[49m\u001b[43m,\u001b[49m\n\u001b[1;32m    554\u001b[0m \u001b[43m            \u001b[49m\u001b[43mids\u001b[49m\u001b[38;5;241;43m=\u001b[39;49m\u001b[43mids_without_metadatas\u001b[49m\u001b[43m,\u001b[49m\n\u001b[1;32m    555\u001b[0m \u001b[43m        \u001b[49m\u001b[43m)\u001b[49m\n\u001b[1;32m    556\u001b[0m \u001b[38;5;28;01melse\u001b[39;00m:\n\u001b[1;32m    557\u001b[0m     \u001b[38;5;28mself\u001b[39m\u001b[38;5;241m.\u001b[39m_collection\u001b[38;5;241m.\u001b[39mupsert(\n\u001b[1;32m    558\u001b[0m         embeddings\u001b[38;5;241m=\u001b[39membeddings,  \u001b[38;5;66;03m# type: ignore\u001b[39;00m\n\u001b[1;32m    559\u001b[0m         documents\u001b[38;5;241m=\u001b[39mtexts,\n\u001b[1;32m    560\u001b[0m         ids\u001b[38;5;241m=\u001b[39mids,\n\u001b[1;32m    561\u001b[0m     )\n",
      "File \u001b[0;32m/mnt/f/conda_env/ollama/lib/python3.12/site-packages/chromadb/api/models/Collection.py:343\u001b[0m, in \u001b[0;36mCollection.upsert\u001b[0;34m(self, ids, embeddings, metadatas, documents, images, uris)\u001b[0m\n\u001b[1;32m    323\u001b[0m \u001b[38;5;250m\u001b[39m\u001b[38;5;124;03m\"\"\"Update the embeddings, metadatas or documents for provided ids, or create them if they don't exist.\u001b[39;00m\n\u001b[1;32m    324\u001b[0m \n\u001b[1;32m    325\u001b[0m \u001b[38;5;124;03mArgs:\u001b[39;00m\n\u001b[0;32m   (...)\u001b[0m\n\u001b[1;32m    332\u001b[0m \u001b[38;5;124;03m    None\u001b[39;00m\n\u001b[1;32m    333\u001b[0m \u001b[38;5;124;03m\"\"\"\u001b[39;00m\n\u001b[1;32m    334\u001b[0m upsert_request \u001b[38;5;241m=\u001b[39m \u001b[38;5;28mself\u001b[39m\u001b[38;5;241m.\u001b[39m_validate_and_prepare_upsert_request(\n\u001b[1;32m    335\u001b[0m     ids\u001b[38;5;241m=\u001b[39mids,\n\u001b[1;32m    336\u001b[0m     embeddings\u001b[38;5;241m=\u001b[39membeddings,\n\u001b[0;32m   (...)\u001b[0m\n\u001b[1;32m    340\u001b[0m     uris\u001b[38;5;241m=\u001b[39muris,\n\u001b[1;32m    341\u001b[0m )\n\u001b[0;32m--> 343\u001b[0m \u001b[38;5;28;43mself\u001b[39;49m\u001b[38;5;241;43m.\u001b[39;49m\u001b[43m_client\u001b[49m\u001b[38;5;241;43m.\u001b[39;49m\u001b[43m_upsert\u001b[49m\u001b[43m(\u001b[49m\n\u001b[1;32m    344\u001b[0m \u001b[43m    \u001b[49m\u001b[43mcollection_id\u001b[49m\u001b[38;5;241;43m=\u001b[39;49m\u001b[38;5;28;43mself\u001b[39;49m\u001b[38;5;241;43m.\u001b[39;49m\u001b[43mid\u001b[49m\u001b[43m,\u001b[49m\n\u001b[1;32m    345\u001b[0m \u001b[43m    \u001b[49m\u001b[43mids\u001b[49m\u001b[38;5;241;43m=\u001b[39;49m\u001b[43mupsert_request\u001b[49m\u001b[43m[\u001b[49m\u001b[38;5;124;43m\"\u001b[39;49m\u001b[38;5;124;43mids\u001b[39;49m\u001b[38;5;124;43m\"\u001b[39;49m\u001b[43m]\u001b[49m\u001b[43m,\u001b[49m\n\u001b[1;32m    346\u001b[0m \u001b[43m    \u001b[49m\u001b[43membeddings\u001b[49m\u001b[38;5;241;43m=\u001b[39;49m\u001b[43mupsert_request\u001b[49m\u001b[43m[\u001b[49m\u001b[38;5;124;43m\"\u001b[39;49m\u001b[38;5;124;43membeddings\u001b[39;49m\u001b[38;5;124;43m\"\u001b[39;49m\u001b[43m]\u001b[49m\u001b[43m,\u001b[49m\n\u001b[1;32m    347\u001b[0m \u001b[43m    \u001b[49m\u001b[43mmetadatas\u001b[49m\u001b[38;5;241;43m=\u001b[39;49m\u001b[43mupsert_request\u001b[49m\u001b[43m[\u001b[49m\u001b[38;5;124;43m\"\u001b[39;49m\u001b[38;5;124;43mmetadatas\u001b[39;49m\u001b[38;5;124;43m\"\u001b[39;49m\u001b[43m]\u001b[49m\u001b[43m,\u001b[49m\n\u001b[1;32m    348\u001b[0m \u001b[43m    \u001b[49m\u001b[43mdocuments\u001b[49m\u001b[38;5;241;43m=\u001b[39;49m\u001b[43mupsert_request\u001b[49m\u001b[43m[\u001b[49m\u001b[38;5;124;43m\"\u001b[39;49m\u001b[38;5;124;43mdocuments\u001b[39;49m\u001b[38;5;124;43m\"\u001b[39;49m\u001b[43m]\u001b[49m\u001b[43m,\u001b[49m\n\u001b[1;32m    349\u001b[0m \u001b[43m    \u001b[49m\u001b[43muris\u001b[49m\u001b[38;5;241;43m=\u001b[39;49m\u001b[43mupsert_request\u001b[49m\u001b[43m[\u001b[49m\u001b[38;5;124;43m\"\u001b[39;49m\u001b[38;5;124;43muris\u001b[39;49m\u001b[38;5;124;43m\"\u001b[39;49m\u001b[43m]\u001b[49m\u001b[43m,\u001b[49m\n\u001b[1;32m    350\u001b[0m \u001b[43m\u001b[49m\u001b[43m)\u001b[49m\n",
      "File \u001b[0;32m/mnt/f/conda_env/ollama/lib/python3.12/site-packages/chromadb/telemetry/opentelemetry/__init__.py:146\u001b[0m, in \u001b[0;36mtrace_method.<locals>.decorator.<locals>.wrapper\u001b[0;34m(*args, **kwargs)\u001b[0m\n\u001b[1;32m    144\u001b[0m \u001b[38;5;28;01mglobal\u001b[39;00m tracer, granularity\n\u001b[1;32m    145\u001b[0m \u001b[38;5;28;01mif\u001b[39;00m trace_granularity \u001b[38;5;241m<\u001b[39m granularity:\n\u001b[0;32m--> 146\u001b[0m     \u001b[38;5;28;01mreturn\u001b[39;00m \u001b[43mf\u001b[49m\u001b[43m(\u001b[49m\u001b[38;5;241;43m*\u001b[39;49m\u001b[43margs\u001b[49m\u001b[43m,\u001b[49m\u001b[43m \u001b[49m\u001b[38;5;241;43m*\u001b[39;49m\u001b[38;5;241;43m*\u001b[39;49m\u001b[43mkwargs\u001b[49m\u001b[43m)\u001b[49m\n\u001b[1;32m    147\u001b[0m \u001b[38;5;28;01mif\u001b[39;00m \u001b[38;5;129;01mnot\u001b[39;00m tracer:\n\u001b[1;32m    148\u001b[0m     \u001b[38;5;28;01mreturn\u001b[39;00m f(\u001b[38;5;241m*\u001b[39margs, \u001b[38;5;241m*\u001b[39m\u001b[38;5;241m*\u001b[39mkwargs)\n",
      "File \u001b[0;32m/mnt/f/conda_env/ollama/lib/python3.12/site-packages/chromadb/api/segment.py:103\u001b[0m, in \u001b[0;36mrate_limit.<locals>.wrapper\u001b[0;34m(*args, **kwargs)\u001b[0m\n\u001b[1;32m    100\u001b[0m \u001b[38;5;129m@wraps\u001b[39m(func)\n\u001b[1;32m    101\u001b[0m \u001b[38;5;28;01mdef\u001b[39;00m \u001b[38;5;21mwrapper\u001b[39m(\u001b[38;5;241m*\u001b[39margs: Any, \u001b[38;5;241m*\u001b[39m\u001b[38;5;241m*\u001b[39mkwargs: Any) \u001b[38;5;241m-\u001b[39m\u001b[38;5;241m>\u001b[39m Any:\n\u001b[1;32m    102\u001b[0m     \u001b[38;5;28mself\u001b[39m \u001b[38;5;241m=\u001b[39m args[\u001b[38;5;241m0\u001b[39m]\n\u001b[0;32m--> 103\u001b[0m     \u001b[38;5;28;01mreturn\u001b[39;00m \u001b[38;5;28;43mself\u001b[39;49m\u001b[38;5;241;43m.\u001b[39;49m\u001b[43m_rate_limit_enforcer\u001b[49m\u001b[38;5;241;43m.\u001b[39;49m\u001b[43mrate_limit\u001b[49m\u001b[43m(\u001b[49m\u001b[43mfunc\u001b[49m\u001b[43m)\u001b[49m\u001b[43m(\u001b[49m\u001b[38;5;241;43m*\u001b[39;49m\u001b[43margs\u001b[49m\u001b[43m,\u001b[49m\u001b[43m \u001b[49m\u001b[38;5;241;43m*\u001b[39;49m\u001b[38;5;241;43m*\u001b[39;49m\u001b[43mkwargs\u001b[49m\u001b[43m)\u001b[49m\n",
      "File \u001b[0;32m/mnt/f/conda_env/ollama/lib/python3.12/site-packages/chromadb/rate_limit/simple_rate_limit/__init__.py:23\u001b[0m, in \u001b[0;36mSimpleRateLimitEnforcer.rate_limit.<locals>.wrapper\u001b[0;34m(*args, **kwargs)\u001b[0m\n\u001b[1;32m     21\u001b[0m \u001b[38;5;129m@wraps\u001b[39m(func)\n\u001b[1;32m     22\u001b[0m \u001b[38;5;28;01mdef\u001b[39;00m \u001b[38;5;21mwrapper\u001b[39m(\u001b[38;5;241m*\u001b[39margs: Any, \u001b[38;5;241m*\u001b[39m\u001b[38;5;241m*\u001b[39mkwargs: Any) \u001b[38;5;241m-\u001b[39m\u001b[38;5;241m>\u001b[39m Any:\n\u001b[0;32m---> 23\u001b[0m     \u001b[38;5;28;01mreturn\u001b[39;00m \u001b[43mfunc\u001b[49m\u001b[43m(\u001b[49m\u001b[38;5;241;43m*\u001b[39;49m\u001b[43margs\u001b[49m\u001b[43m,\u001b[49m\u001b[43m \u001b[49m\u001b[38;5;241;43m*\u001b[39;49m\u001b[38;5;241;43m*\u001b[39;49m\u001b[43mkwargs\u001b[49m\u001b[43m)\u001b[49m\n",
      "File \u001b[0;32m/mnt/f/conda_env/ollama/lib/python3.12/site-packages/chromadb/api/segment.py:477\u001b[0m, in \u001b[0;36mSegmentAPI._upsert\u001b[0;34m(self, collection_id, ids, embeddings, metadatas, documents, uris, tenant, database)\u001b[0m\n\u001b[1;32m    475\u001b[0m coll \u001b[38;5;241m=\u001b[39m \u001b[38;5;28mself\u001b[39m\u001b[38;5;241m.\u001b[39m_get_collection(collection_id)\n\u001b[1;32m    476\u001b[0m \u001b[38;5;28mself\u001b[39m\u001b[38;5;241m.\u001b[39m_manager\u001b[38;5;241m.\u001b[39mhint_use_collection(collection_id, t\u001b[38;5;241m.\u001b[39mOperation\u001b[38;5;241m.\u001b[39mUPSERT)\n\u001b[0;32m--> 477\u001b[0m \u001b[43mvalidate_batch\u001b[49m\u001b[43m(\u001b[49m\n\u001b[1;32m    478\u001b[0m \u001b[43m    \u001b[49m\u001b[43m(\u001b[49m\u001b[43mids\u001b[49m\u001b[43m,\u001b[49m\u001b[43m \u001b[49m\u001b[43membeddings\u001b[49m\u001b[43m,\u001b[49m\u001b[43m \u001b[49m\u001b[43mmetadatas\u001b[49m\u001b[43m,\u001b[49m\u001b[43m \u001b[49m\u001b[43mdocuments\u001b[49m\u001b[43m,\u001b[49m\u001b[43m \u001b[49m\u001b[43muris\u001b[49m\u001b[43m)\u001b[49m\u001b[43m,\u001b[49m\n\u001b[1;32m    479\u001b[0m \u001b[43m    \u001b[49m\u001b[43m{\u001b[49m\u001b[38;5;124;43m\"\u001b[39;49m\u001b[38;5;124;43mmax_batch_size\u001b[39;49m\u001b[38;5;124;43m\"\u001b[39;49m\u001b[43m:\u001b[49m\u001b[43m \u001b[49m\u001b[38;5;28;43mself\u001b[39;49m\u001b[38;5;241;43m.\u001b[39;49m\u001b[43mget_max_batch_size\u001b[49m\u001b[43m(\u001b[49m\u001b[43m)\u001b[49m\u001b[43m}\u001b[49m\u001b[43m,\u001b[49m\n\u001b[1;32m    480\u001b[0m \u001b[43m\u001b[49m\u001b[43m)\u001b[49m\n\u001b[1;32m    481\u001b[0m records_to_submit \u001b[38;5;241m=\u001b[39m \u001b[38;5;28mlist\u001b[39m(\n\u001b[1;32m    482\u001b[0m     _records(\n\u001b[1;32m    483\u001b[0m         t\u001b[38;5;241m.\u001b[39mOperation\u001b[38;5;241m.\u001b[39mUPSERT,\n\u001b[0;32m   (...)\u001b[0m\n\u001b[1;32m    489\u001b[0m     )\n\u001b[1;32m    490\u001b[0m )\n\u001b[1;32m    491\u001b[0m \u001b[38;5;28mself\u001b[39m\u001b[38;5;241m.\u001b[39m_validate_embedding_record_set(coll, records_to_submit)\n",
      "File \u001b[0;32m/mnt/f/conda_env/ollama/lib/python3.12/site-packages/chromadb/api/types.py:827\u001b[0m, in \u001b[0;36mvalidate_batch\u001b[0;34m(batch, limits)\u001b[0m\n\u001b[1;32m    816\u001b[0m \u001b[38;5;28;01mdef\u001b[39;00m \u001b[38;5;21mvalidate_batch\u001b[39m(\n\u001b[1;32m    817\u001b[0m     batch: Tuple[\n\u001b[1;32m    818\u001b[0m         IDs,\n\u001b[0;32m   (...)\u001b[0m\n\u001b[1;32m    824\u001b[0m     limits: Dict[\u001b[38;5;28mstr\u001b[39m, Any],\n\u001b[1;32m    825\u001b[0m ) \u001b[38;5;241m-\u001b[39m\u001b[38;5;241m>\u001b[39m \u001b[38;5;28;01mNone\u001b[39;00m:\n\u001b[1;32m    826\u001b[0m     \u001b[38;5;28;01mif\u001b[39;00m \u001b[38;5;28mlen\u001b[39m(batch[\u001b[38;5;241m0\u001b[39m]) \u001b[38;5;241m>\u001b[39m limits[\u001b[38;5;124m\"\u001b[39m\u001b[38;5;124mmax_batch_size\u001b[39m\u001b[38;5;124m\"\u001b[39m]:\n\u001b[0;32m--> 827\u001b[0m         \u001b[38;5;28;01mraise\u001b[39;00m \u001b[38;5;167;01mValueError\u001b[39;00m(\n\u001b[1;32m    828\u001b[0m             \u001b[38;5;124mf\u001b[39m\u001b[38;5;124m\"\u001b[39m\u001b[38;5;124mBatch size \u001b[39m\u001b[38;5;132;01m{\u001b[39;00m\u001b[38;5;28mlen\u001b[39m(batch[\u001b[38;5;241m0\u001b[39m])\u001b[38;5;132;01m}\u001b[39;00m\u001b[38;5;124m exceeds maximum batch size \u001b[39m\u001b[38;5;132;01m{\u001b[39;00mlimits[\u001b[38;5;124m'\u001b[39m\u001b[38;5;124mmax_batch_size\u001b[39m\u001b[38;5;124m'\u001b[39m]\u001b[38;5;132;01m}\u001b[39;00m\u001b[38;5;124m\"\u001b[39m\n\u001b[1;32m    829\u001b[0m         )\n",
      "\u001b[0;31mValueError\u001b[0m: Batch size 43697 exceeds maximum batch size 41666"
     ]
    }
   ],
   "source": [
    "vectorstore = Chroma.from_documents(\n",
    "    documents=all_splits,\n",
    "    embedding=OllamaEmbeddings(model=\"llama3.2\", show_progress=True),\n",
    "    persist_directory=\"./chroma_db\",\n",
    ")\n",
    "vectorstore.persist()"
   ]
  }
 ],
 "metadata": {
  "kernelspec": {
   "display_name": "Python [conda env:ollama]",
   "language": "python",
   "name": "conda-env-ollama-py"
  },
  "language_info": {
   "codemirror_mode": {
    "name": "ipython",
    "version": 3
   },
   "file_extension": ".py",
   "mimetype": "text/x-python",
   "name": "python",
   "nbconvert_exporter": "python",
   "pygments_lexer": "ipython3",
   "version": "3.12.7"
  }
 },
 "nbformat": 4,
 "nbformat_minor": 5
}
